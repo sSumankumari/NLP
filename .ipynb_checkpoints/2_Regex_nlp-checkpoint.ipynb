{
 "cells": [
  {
   "cell_type": "markdown",
   "id": "f6e2eb83",
   "metadata": {},
   "source": [
    "# Regular Expressions (Regex)"
   ]
  },
  {
   "cell_type": "code",
   "execution_count": 1,
   "id": "5b326ab8",
   "metadata": {},
   "outputs": [],
   "source": [
    "import re"
   ]
  },
  {
   "cell_type": "markdown",
   "id": "2a5b495b",
   "metadata": {},
   "source": [
    "## Regex in Customer Support"
   ]
  },
  {
   "cell_type": "markdown",
   "id": "5deacb38",
   "metadata": {},
   "source": [
    "### Usage of Regex (Regular Expression)"
   ]
  },
  {
   "cell_type": "code",
   "execution_count": 2,
   "id": "d341f584",
   "metadata": {},
   "outputs": [],
   "source": [
    "text1 = 'codebasics: you ask lot of questions 😠  1235678912, abc@xyz.com'\n",
    "text2 = 'codebasics: here it is: (123)-567-8912, abX_82@xyz.com'\n",
    "text3 = 'codebasics: yes, phone: 1235678912 email: abc@xyz.io'"
   ]
  },
  {
   "cell_type": "code",
   "execution_count": 3,
   "id": "e18dcff0",
   "metadata": {},
   "outputs": [
    {
     "data": {
      "text/plain": [
       "['1235678912']"
      ]
     },
     "execution_count": 3,
     "metadata": {},
     "output_type": "execute_result"
    }
   ],
   "source": [
    "pattern1 = '\\d{10}'\n",
    "\n",
    "re.findall(pattern1, text1)"
   ]
  },
  {
   "cell_type": "code",
   "execution_count": 4,
   "id": "c5907da3",
   "metadata": {},
   "outputs": [
    {
     "data": {
      "text/plain": [
       "['(123)-567-8912']"
      ]
     },
     "execution_count": 4,
     "metadata": {},
     "output_type": "execute_result"
    }
   ],
   "source": [
    "pattern2 = '\\(\\d{3}\\)-\\d{3}-\\d{4}'\n",
    "\n",
    "re.findall(pattern2, text2)"
   ]
  },
  {
   "cell_type": "code",
   "execution_count": 5,
   "id": "748b2de6",
   "metadata": {},
   "outputs": [
    {
     "name": "stdout",
     "output_type": "stream",
     "text": [
      "['1235678912'] ['(123)-567-8912'] ['1235678912']\n"
     ]
    }
   ],
   "source": [
    "pattern3 = '\\(\\d{3}\\)-\\d{3}-\\d{4}|\\d{10}'\n",
    "\n",
    "match1 = re.findall(pattern3, text1)\n",
    "match2 = re.findall(pattern3, text2)\n",
    "match3 = re.findall(pattern3, text3)\n",
    "\n",
    "print(match1, match2, match3)"
   ]
  },
  {
   "cell_type": "code",
   "execution_count": 6,
   "id": "0a3357b2",
   "metadata": {},
   "outputs": [
    {
     "name": "stdout",
     "output_type": "stream",
     "text": [
      "['abc@xyz.com'] ['abX_82@xyz.com'] ['abc@xyz.io']\n"
     ]
    }
   ],
   "source": [
    "email_pattern = '[a-z0-9A-Z_]*@[a-z.]*'\n",
    "\n",
    "email1 = re.findall(email_pattern, text1)\n",
    "email2 = re.findall(email_pattern, text2)\n",
    "email3 = re.findall(email_pattern, text3)\n",
    "\n",
    "print(email1, email2, email3)"
   ]
  },
  {
   "cell_type": "markdown",
   "id": "287a32e1",
   "metadata": {},
   "source": [
    "### Retrieving order number"
   ]
  },
  {
   "cell_type": "code",
   "execution_count": 7,
   "id": "747a7c06",
   "metadata": {},
   "outputs": [
    {
     "name": "stdout",
     "output_type": "stream",
     "text": [
      "['412345982']\n",
      "['412889912']\n",
      "['412785624']\n"
     ]
    }
   ],
   "source": [
    "chat1='Codebasics: Hello, I am having an issue with my order # 412345982'\n",
    "chat2='Codebasics: I have a problem with my order number 412889912'\n",
    "chat3='codebasics: My order 412785624 is having an issue, I was charged 300$ when online it says 280$'\n",
    "\n",
    "chats = [chat1, chat2, chat3]\n",
    "pattern = 'order[^\\d]*(\\d*)'\n",
    "\n",
    "for chat in chats:\n",
    "    matches = re.findall(pattern, chat)\n",
    "    print(matches)"
   ]
  },
  {
   "cell_type": "code",
   "execution_count": 8,
   "id": "6fec33b5",
   "metadata": {},
   "outputs": [],
   "source": [
    "def get_pattern_match(pattern, text):\n",
    "    matches = re.findall(pattern, text)\n",
    "    if(matches):\n",
    "        return matches[0]"
   ]
  },
  {
   "cell_type": "code",
   "execution_count": 9,
   "id": "710012f5",
   "metadata": {},
   "outputs": [
    {
     "data": {
      "text/plain": [
       "'412345982'"
      ]
     },
     "execution_count": 9,
     "metadata": {},
     "output_type": "execute_result"
    }
   ],
   "source": [
    "get_pattern_match('order[^\\d]*(\\d*)', chat1)"
   ]
  },
  {
   "cell_type": "markdown",
   "id": "db3d7203",
   "metadata": {},
   "source": [
    "### Retrieve Email id and Phone no."
   ]
  },
  {
   "cell_type": "code",
   "execution_count": 10,
   "id": "20e2b50b",
   "metadata": {},
   "outputs": [],
   "source": [
    "chat1 = 'codebasics: you ask lot of questions 😠  1235678912, abc@xyz.com'\n",
    "chat2 = 'codebasics: here it is: (123)-567-8912, abX_82@xyz.com'\n",
    "chat3 = 'codebasics: yes, phone: 1235678912 email: abc@xyz.io'"
   ]
  },
  {
   "cell_type": "markdown",
   "id": "22a41e6f",
   "metadata": {},
   "source": [
    "#### ---Email id---"
   ]
  },
  {
   "cell_type": "code",
   "execution_count": 11,
   "id": "6988d98c",
   "metadata": {},
   "outputs": [
    {
     "data": {
      "text/plain": [
       "'abc@xyz.com'"
      ]
     },
     "execution_count": 11,
     "metadata": {},
     "output_type": "execute_result"
    }
   ],
   "source": [
    "get_pattern_match('[a-z0-9A-Z_]*@[a-z.]*', chat1)"
   ]
  },
  {
   "cell_type": "code",
   "execution_count": 12,
   "id": "e1032b92",
   "metadata": {},
   "outputs": [
    {
     "data": {
      "text/plain": [
       "'abX_82@xyz.com'"
      ]
     },
     "execution_count": 12,
     "metadata": {},
     "output_type": "execute_result"
    }
   ],
   "source": [
    "get_pattern_match('[a-z0-9A-Z_]*@[a-z.]*', chat2)"
   ]
  },
  {
   "cell_type": "code",
   "execution_count": 13,
   "id": "131ecad4",
   "metadata": {},
   "outputs": [
    {
     "name": "stdout",
     "output_type": "stream",
     "text": [
      "abc@xyz.com\n",
      "abX_82@xyz.com\n",
      "abc@xyz.io\n"
     ]
    }
   ],
   "source": [
    "emails_phone_no = [chat1, chat2, chat3]\n",
    "for chat in emails_phone_no:\n",
    "    print(get_pattern_match('[a-z0-9A-Z_]*@[a-z.]*', chat))"
   ]
  },
  {
   "cell_type": "markdown",
   "id": "80344ec2",
   "metadata": {},
   "source": [
    "#### ---Phone number---"
   ]
  },
  {
   "cell_type": "code",
   "execution_count": 14,
   "id": "2b8049f4",
   "metadata": {},
   "outputs": [
    {
     "data": {
      "text/plain": [
       "'1235678912'"
      ]
     },
     "execution_count": 14,
     "metadata": {},
     "output_type": "execute_result"
    }
   ],
   "source": [
    "get_pattern_match('\\(\\d{3}\\)-\\d{3}-\\d{4}|\\d{10}', chat1)"
   ]
  },
  {
   "cell_type": "code",
   "execution_count": 15,
   "id": "3874b6e7",
   "metadata": {},
   "outputs": [
    {
     "name": "stdout",
     "output_type": "stream",
     "text": [
      "('', '1235678912')\n",
      "('(123)-567-8912', '')\n",
      "('', '1235678912')\n"
     ]
    }
   ],
   "source": [
    "for chat in emails_phone_no:\n",
    "    matches = get_pattern_match('(\\(\\d{3}\\)-\\d{3}-\\d{4})|(\\d{10})', chat)\n",
    "    print(matches)"
   ]
  },
  {
   "cell_type": "code",
   "execution_count": null,
   "id": "b9dc6cbe",
   "metadata": {},
   "outputs": [],
   "source": []
  },
  {
   "cell_type": "markdown",
   "id": "df46f167",
   "metadata": {},
   "source": [
    "## Regex for Information Extraction"
   ]
  },
  {
   "cell_type": "code",
   "execution_count": 20,
   "id": "01c57b87",
   "metadata": {},
   "outputs": [],
   "source": [
    "text='''\n",
    "Born\tElon Reeve Musk\n",
    "June 28, 1971 (age 50)\n",
    "Pretoria, Transvaal, South Africa\n",
    "Citizenship\t\n",
    "South Africa (1971–present)\n",
    "Canada (1971–present)\n",
    "United States (2002–present)\n",
    "Education\tUniversity of Pennsylvania (BS, BA)\n",
    "Title\t\n",
    "Founder, CEO and Chief Engineer of SpaceX\n",
    "CEO and product architect of Tesla, Inc.\n",
    "Founder of The Boring Company and X.com (now part of PayPal)\n",
    "Co-founder of Neuralink, OpenAI, and Zip2\n",
    "Spouse(s)\t\n",
    "Justine Wilson\n",
    "​\n",
    "​(m. 2000; div. 2008)​\n",
    "Talulah Riley\n",
    "​\n",
    "​(m. 2010; div. 2012)​\n",
    "​\n",
    "​(m. 2013; div. 2016)\n",
    "'''"
   ]
  },
  {
   "cell_type": "code",
   "execution_count": 36,
   "id": "768e5f84",
   "metadata": {},
   "outputs": [
    {
     "data": {
      "text/plain": [
       "'50'"
      ]
     },
     "execution_count": 36,
     "metadata": {},
     "output_type": "execute_result"
    }
   ],
   "source": [
    "# Age\n",
    "get_pattern_match(r'age (\\d+)', text)"
   ]
  },
  {
   "cell_type": "code",
   "execution_count": 37,
   "id": "710cf405",
   "metadata": {},
   "outputs": [
    {
     "data": {
      "text/plain": [
       "'Elon Reeve Musk'"
      ]
     },
     "execution_count": 37,
     "metadata": {},
     "output_type": "execute_result"
    }
   ],
   "source": [
    "# Born person\n",
    "get_pattern_match(r'Born(.*)\\n', text).strip()"
   ]
  },
  {
   "cell_type": "code",
   "execution_count": 38,
   "id": "c23427b7",
   "metadata": {},
   "outputs": [
    {
     "data": {
      "text/plain": [
       "'June 28, 1971 (age 50)'"
      ]
     },
     "execution_count": 38,
     "metadata": {},
     "output_type": "execute_result"
    }
   ],
   "source": [
    "# Born Date\n",
    "get_pattern_match(r'Born.*\\n(.*)', text)"
   ]
  },
  {
   "cell_type": "code",
   "execution_count": 34,
   "id": "9db693b9",
   "metadata": {},
   "outputs": [
    {
     "data": {
      "text/plain": [
       "'June 28, 1971 '"
      ]
     },
     "execution_count": 34,
     "metadata": {},
     "output_type": "execute_result"
    }
   ],
   "source": [
    "get_pattern_match('Born.*\\n(.*)\\(age', text)"
   ]
  },
  {
   "cell_type": "code",
   "execution_count": 39,
   "id": "24ce44bc",
   "metadata": {},
   "outputs": [
    {
     "data": {
      "text/plain": [
       "'Pretoria, Transvaal, South Africa'"
      ]
     },
     "execution_count": 39,
     "metadata": {},
     "output_type": "execute_result"
    }
   ],
   "source": [
    "# Birth Place\n",
    "get_pattern_match(r'\\(age.*\\n(.*)', text).strip()"
   ]
  },
  {
   "cell_type": "code",
   "execution_count": 78,
   "id": "86b5be64",
   "metadata": {},
   "outputs": [],
   "source": [
    "def extract_personal_info(text):\n",
    "    age = get_pattern_match(r'age (\\d+)', text)\n",
    "    Person_name = get_pattern_match(r'Born(.*)\\n', text).strip()\n",
    "    Birth_date = get_pattern_match(r'Born.*\\n(.*)\\(age', text).strip()\n",
    "    Birth_place = get_pattern_match(r'\\(age.*\\n(.*)', text).strip()\n",
    "    Citizenship = get_pattern_match(r'Citizenship.*\\n(.*)\\n(.*)\\n(.*)|Nationality.(.*)', text)\n",
    "    education = get_pattern_match(r'Education\\t(.*)|Alma.*\\n(.*)\\n(.*)\\n(.*)', text)\n",
    "    \n",
    "    return {\n",
    "        'Age': int(age),\n",
    "        'Name': Person_name,\n",
    "        'Birth_date': Birth_date,\n",
    "        'Birth_place': Birth_place,\n",
    "        'Citizenship': Citizenship,\n",
    "        'Education': education\n",
    "    }"
   ]
  },
  {
   "cell_type": "code",
   "execution_count": 79,
   "id": "0991cf85",
   "metadata": {},
   "outputs": [
    {
     "data": {
      "text/plain": [
       "{'Age': 50,\n",
       " 'Name': 'Elon Reeve Musk',\n",
       " 'Birth_date': 'June 28, 1971',\n",
       " 'Birth_place': 'Pretoria, Transvaal, South Africa',\n",
       " 'Citizenship': ('South Africa (1971–present)',\n",
       "  'Canada (1971–present)',\n",
       "  'United States (2002–present)',\n",
       "  ''),\n",
       " 'Education': ('University of Pennsylvania (BS, BA)', '', '', '')}"
      ]
     },
     "execution_count": 79,
     "metadata": {},
     "output_type": "execute_result"
    }
   ],
   "source": [
    "extract_personal_info(text)"
   ]
  },
  {
   "cell_type": "code",
   "execution_count": 80,
   "id": "9cfaba6e",
   "metadata": {},
   "outputs": [],
   "source": [
    "new_text = '''\n",
    "Born\tMukesh Dhirubhai Ambani\n",
    "19 April 1957 (age 64)\n",
    "Aden, Colony of Aden\n",
    "(present-day Yemen)[1][2]\n",
    "Nationality\tIndian\n",
    "Alma mater\t\n",
    "St. Xavier's College, Mumbai\n",
    "Institute of Chemical Technology (B.E.)\n",
    "Stanford University (drop-out)\n",
    "Occupation\tChairman and MD, Reliance Industries\n",
    "Spouse(s)\tNita Ambani ​(m. 1985)​[3]\n",
    "Children\t3\n",
    "Parent(s)\t\n",
    "Dhirubhai Ambani (father)\n",
    "Kokilaben Ambani (mother)\n",
    "Relatives\tAnil Ambani (brother)\n",
    "Tina Ambani (sister-in-law)\n",
    "'''"
   ]
  },
  {
   "cell_type": "code",
   "execution_count": 81,
   "id": "dfefb943",
   "metadata": {},
   "outputs": [
    {
     "data": {
      "text/plain": [
       "{'Age': 64,\n",
       " 'Name': 'Mukesh Dhirubhai Ambani',\n",
       " 'Birth_date': '19 April 1957',\n",
       " 'Birth_place': 'Aden, Colony of Aden',\n",
       " 'Citizenship': ('', '', '', 'Indian'),\n",
       " 'Education': ('',\n",
       "  \"St. Xavier's College, Mumbai\",\n",
       "  'Institute of Chemical Technology (B.E.)',\n",
       "  'Stanford University (drop-out)')}"
      ]
     },
     "execution_count": 81,
     "metadata": {},
     "output_type": "execute_result"
    }
   ],
   "source": [
    "extract_personal_info(new_text)"
   ]
  },
  {
   "cell_type": "code",
   "execution_count": null,
   "id": "68ed8d27",
   "metadata": {},
   "outputs": [],
   "source": []
  }
 ],
 "metadata": {
  "kernelspec": {
   "display_name": "Python 3 (ipykernel)",
   "language": "python",
   "name": "python3"
  },
  "language_info": {
   "codemirror_mode": {
    "name": "ipython",
    "version": 3
   },
   "file_extension": ".py",
   "mimetype": "text/x-python",
   "name": "python",
   "nbconvert_exporter": "python",
   "pygments_lexer": "ipython3",
   "version": "3.10.9"
  }
 },
 "nbformat": 4,
 "nbformat_minor": 5
}
