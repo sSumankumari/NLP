{
 "cells": [
  {
   "cell_type": "markdown",
   "id": "02e73d5d",
   "metadata": {},
   "source": [
    "# Using Word Vectors in fastText"
   ]
  },
  {
   "cell_type": "code",
   "execution_count": 2,
   "id": "6f6661a1",
   "metadata": {},
   "outputs": [],
   "source": [
    "# import fasttext"
   ]
  },
  {
   "cell_type": "code",
   "execution_count": 3,
   "id": "03b1c2a0",
   "metadata": {},
   "outputs": [],
   "source": [
    "# model_en = fasttext.load_model(\"\")"
   ]
  },
  {
   "cell_type": "code",
   "execution_count": 4,
   "id": "94e27011",
   "metadata": {},
   "outputs": [],
   "source": [
    "# dir(model_en)"
   ]
  },
  {
   "cell_type": "code",
   "execution_count": 5,
   "id": "29849b70",
   "metadata": {},
   "outputs": [],
   "source": [
    "# model_en.get_nearest_neighbors(\"good\")"
   ]
  },
  {
   "cell_type": "code",
   "execution_count": null,
   "id": "d4dec293",
   "metadata": {},
   "outputs": [],
   "source": []
  }
 ],
 "metadata": {
  "kernelspec": {
   "display_name": "Python 3 (ipykernel)",
   "language": "python",
   "name": "python3"
  },
  "language_info": {
   "codemirror_mode": {
    "name": "ipython",
    "version": 3
   },
   "file_extension": ".py",
   "mimetype": "text/x-python",
   "name": "python",
   "nbconvert_exporter": "python",
   "pygments_lexer": "ipython3",
   "version": "3.10.9"
  }
 },
 "nbformat": 4,
 "nbformat_minor": 5
}
