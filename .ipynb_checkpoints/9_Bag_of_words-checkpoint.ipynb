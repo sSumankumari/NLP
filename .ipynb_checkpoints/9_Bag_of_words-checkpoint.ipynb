{
 "cells": [
  {
   "cell_type": "markdown",
   "id": "43e6e82d",
   "metadata": {},
   "source": [
    "# Text Representation using Bag Of Words (BOW)"
   ]
  },
  {
   "cell_type": "code",
   "execution_count": 1,
   "id": "f38d3631",
   "metadata": {},
   "outputs": [],
   "source": [
    "import pandas as pd\n",
    "import numpy as np"
   ]
  },
  {
   "cell_type": "code",
   "execution_count": 2,
   "id": "34d2541b",
   "metadata": {},
   "outputs": [
    {
     "data": {
      "text/html": [
       "<div>\n",
       "<style scoped>\n",
       "    .dataframe tbody tr th:only-of-type {\n",
       "        vertical-align: middle;\n",
       "    }\n",
       "\n",
       "    .dataframe tbody tr th {\n",
       "        vertical-align: top;\n",
       "    }\n",
       "\n",
       "    .dataframe thead th {\n",
       "        text-align: right;\n",
       "    }\n",
       "</style>\n",
       "<table border=\"1\" class=\"dataframe\">\n",
       "  <thead>\n",
       "    <tr style=\"text-align: right;\">\n",
       "      <th></th>\n",
       "      <th>Category</th>\n",
       "      <th>Message</th>\n",
       "    </tr>\n",
       "  </thead>\n",
       "  <tbody>\n",
       "    <tr>\n",
       "      <th>0</th>\n",
       "      <td>ham</td>\n",
       "      <td>Go until jurong point, crazy.. Available only ...</td>\n",
       "    </tr>\n",
       "    <tr>\n",
       "      <th>1</th>\n",
       "      <td>ham</td>\n",
       "      <td>Ok lar... Joking wif u oni...</td>\n",
       "    </tr>\n",
       "    <tr>\n",
       "      <th>2</th>\n",
       "      <td>spam</td>\n",
       "      <td>Free entry in 2 a wkly comp to win FA Cup fina...</td>\n",
       "    </tr>\n",
       "    <tr>\n",
       "      <th>3</th>\n",
       "      <td>ham</td>\n",
       "      <td>U dun say so early hor... U c already then say...</td>\n",
       "    </tr>\n",
       "    <tr>\n",
       "      <th>4</th>\n",
       "      <td>ham</td>\n",
       "      <td>Nah I don't think he goes to usf, he lives aro...</td>\n",
       "    </tr>\n",
       "  </tbody>\n",
       "</table>\n",
       "</div>"
      ],
      "text/plain": [
       "  Category                                            Message\n",
       "0      ham  Go until jurong point, crazy.. Available only ...\n",
       "1      ham                      Ok lar... Joking wif u oni...\n",
       "2     spam  Free entry in 2 a wkly comp to win FA Cup fina...\n",
       "3      ham  U dun say so early hor... U c already then say...\n",
       "4      ham  Nah I don't think he goes to usf, he lives aro..."
      ]
     },
     "execution_count": 2,
     "metadata": {},
     "output_type": "execute_result"
    }
   ],
   "source": [
    "df = pd.read_csv('spam.csv')\n",
    "df.head()"
   ]
  },
  {
   "cell_type": "code",
   "execution_count": 4,
   "id": "0a9bed9c",
   "metadata": {},
   "outputs": [
    {
     "data": {
      "text/plain": [
       "ham     4825\n",
       "spam     747\n",
       "Name: Category, dtype: int64"
      ]
     },
     "execution_count": 4,
     "metadata": {},
     "output_type": "execute_result"
    }
   ],
   "source": [
    "df.Category.value_counts()"
   ]
  },
  {
   "cell_type": "code",
   "execution_count": 10,
   "id": "602b4e4d",
   "metadata": {},
   "outputs": [],
   "source": [
    "# def get_spam_number(x):\n",
    "#     if x == 'spam':\n",
    "#         return 1\n",
    "#     return 0"
   ]
  },
  {
   "cell_type": "code",
   "execution_count": 11,
   "id": "eb25b760",
   "metadata": {},
   "outputs": [],
   "source": [
    "df['spam'] = df['Category'].apply(lambda x: 1 if x == 'spam' else 0)"
   ]
  },
  {
   "cell_type": "code",
   "execution_count": 12,
   "id": "a8e09754",
   "metadata": {},
   "outputs": [
    {
     "data": {
      "text/html": [
       "<div>\n",
       "<style scoped>\n",
       "    .dataframe tbody tr th:only-of-type {\n",
       "        vertical-align: middle;\n",
       "    }\n",
       "\n",
       "    .dataframe tbody tr th {\n",
       "        vertical-align: top;\n",
       "    }\n",
       "\n",
       "    .dataframe thead th {\n",
       "        text-align: right;\n",
       "    }\n",
       "</style>\n",
       "<table border=\"1\" class=\"dataframe\">\n",
       "  <thead>\n",
       "    <tr style=\"text-align: right;\">\n",
       "      <th></th>\n",
       "      <th>Category</th>\n",
       "      <th>Message</th>\n",
       "      <th>spam</th>\n",
       "    </tr>\n",
       "  </thead>\n",
       "  <tbody>\n",
       "    <tr>\n",
       "      <th>0</th>\n",
       "      <td>ham</td>\n",
       "      <td>Go until jurong point, crazy.. Available only ...</td>\n",
       "      <td>0</td>\n",
       "    </tr>\n",
       "    <tr>\n",
       "      <th>1</th>\n",
       "      <td>ham</td>\n",
       "      <td>Ok lar... Joking wif u oni...</td>\n",
       "      <td>0</td>\n",
       "    </tr>\n",
       "    <tr>\n",
       "      <th>2</th>\n",
       "      <td>spam</td>\n",
       "      <td>Free entry in 2 a wkly comp to win FA Cup fina...</td>\n",
       "      <td>1</td>\n",
       "    </tr>\n",
       "    <tr>\n",
       "      <th>3</th>\n",
       "      <td>ham</td>\n",
       "      <td>U dun say so early hor... U c already then say...</td>\n",
       "      <td>0</td>\n",
       "    </tr>\n",
       "    <tr>\n",
       "      <th>4</th>\n",
       "      <td>ham</td>\n",
       "      <td>Nah I don't think he goes to usf, he lives aro...</td>\n",
       "      <td>0</td>\n",
       "    </tr>\n",
       "  </tbody>\n",
       "</table>\n",
       "</div>"
      ],
      "text/plain": [
       "  Category                                            Message  spam\n",
       "0      ham  Go until jurong point, crazy.. Available only ...     0\n",
       "1      ham                      Ok lar... Joking wif u oni...     0\n",
       "2     spam  Free entry in 2 a wkly comp to win FA Cup fina...     1\n",
       "3      ham  U dun say so early hor... U c already then say...     0\n",
       "4      ham  Nah I don't think he goes to usf, he lives aro...     0"
      ]
     },
     "execution_count": 12,
     "metadata": {},
     "output_type": "execute_result"
    }
   ],
   "source": [
    "df.head()"
   ]
  },
  {
   "cell_type": "markdown",
   "id": "599a06dd",
   "metadata": {},
   "source": [
    "## Train test split"
   ]
  },
  {
   "cell_type": "code",
   "execution_count": 15,
   "id": "325bb8ec",
   "metadata": {},
   "outputs": [],
   "source": [
    "from sklearn.model_selection import train_test_split\n",
    "\n",
    "x_train, x_test, y_train, y_test = train_test_split(df.Message, df.spam, test_size=0.2)"
   ]
  },
  {
   "cell_type": "code",
   "execution_count": 16,
   "id": "873563a8",
   "metadata": {},
   "outputs": [
    {
     "data": {
      "text/plain": [
       "(4457,)"
      ]
     },
     "execution_count": 16,
     "metadata": {},
     "output_type": "execute_result"
    }
   ],
   "source": [
    "x_train.shape"
   ]
  },
  {
   "cell_type": "code",
   "execution_count": 17,
   "id": "0c47024e",
   "metadata": {},
   "outputs": [
    {
     "data": {
      "text/plain": [
       "(1115,)"
      ]
     },
     "execution_count": 17,
     "metadata": {},
     "output_type": "execute_result"
    }
   ],
   "source": [
    "x_test.shape"
   ]
  },
  {
   "cell_type": "code",
   "execution_count": 18,
   "id": "2d12e439",
   "metadata": {},
   "outputs": [
    {
     "data": {
      "text/plain": [
       "pandas.core.series.Series"
      ]
     },
     "execution_count": 18,
     "metadata": {},
     "output_type": "execute_result"
    }
   ],
   "source": [
    "type(x_train)"
   ]
  },
  {
   "cell_type": "code",
   "execution_count": 19,
   "id": "a26470f7",
   "metadata": {},
   "outputs": [
    {
     "data": {
      "text/plain": [
       "2557    Fuck babe ... What happened to you ? How come ...\n",
       "3536                             I'm at home. Please call\n",
       "5078    Guy, no flash me now. If you go call me, call ...\n",
       "2869             Aight, tomorrow around  &lt;#&gt;  it is\n",
       "Name: Message, dtype: object"
      ]
     },
     "execution_count": 19,
     "metadata": {},
     "output_type": "execute_result"
    }
   ],
   "source": [
    "x_train[:4]"
   ]
  },
  {
   "cell_type": "code",
   "execution_count": 20,
   "id": "22266f65",
   "metadata": {},
   "outputs": [
    {
     "data": {
      "text/plain": [
       "pandas.core.series.Series"
      ]
     },
     "execution_count": 20,
     "metadata": {},
     "output_type": "execute_result"
    }
   ],
   "source": [
    "type(y_train)"
   ]
  },
  {
   "cell_type": "code",
   "execution_count": 21,
   "id": "b90865c4",
   "metadata": {},
   "outputs": [
    {
     "data": {
      "text/plain": [
       "2557    0\n",
       "3536    0\n",
       "5078    0\n",
       "2869    0\n",
       "Name: spam, dtype: int64"
      ]
     },
     "execution_count": 21,
     "metadata": {},
     "output_type": "execute_result"
    }
   ],
   "source": [
    "y_train[:4]"
   ]
  },
  {
   "cell_type": "code",
   "execution_count": 22,
   "id": "f642bf8d",
   "metadata": {},
   "outputs": [
    {
     "data": {
      "text/plain": [
       "array(['Fuck babe ... What happened to you ? How come you never came back?',\n",
       "       \"I'm at home. Please call\",\n",
       "       'Guy, no flash me now. If you go call me, call me. How madam. Take care oh.',\n",
       "       ..., 'R we going with the  &lt;#&gt;  bus?',\n",
       "       'Heart is empty without love.. Mind is empty without wisdom.. Eyes r empty without dreams &amp; Life is empty without frnds.. So Alwys Be In Touch. Good night &amp; sweet dreams',\n",
       "       \"I'm in solihull, | do you want anything?\"], dtype=object)"
      ]
     },
     "execution_count": 22,
     "metadata": {},
     "output_type": "execute_result"
    }
   ],
   "source": [
    "x_train.values"
   ]
  },
  {
   "cell_type": "markdown",
   "id": "c8c3fab1",
   "metadata": {},
   "source": [
    "## Create bag of words representation using CountVectorizer"
   ]
  },
  {
   "cell_type": "code",
   "execution_count": 23,
   "id": "00fcb95d",
   "metadata": {},
   "outputs": [
    {
     "data": {
      "text/plain": [
       "<4457x7725 sparse matrix of type '<class 'numpy.int64'>'\n",
       "\twith 59265 stored elements in Compressed Sparse Row format>"
      ]
     },
     "execution_count": 23,
     "metadata": {},
     "output_type": "execute_result"
    }
   ],
   "source": [
    "from sklearn.feature_extraction.text import CountVectorizer\n",
    "\n",
    "v = CountVectorizer()\n",
    "\n",
    "x_train_cv = v.fit_transform(x_train.values)\n",
    "x_train_cv"
   ]
  },
  {
   "cell_type": "code",
   "execution_count": 25,
   "id": "91c54b94",
   "metadata": {},
   "outputs": [
    {
     "data": {
      "text/plain": [
       "array([0, 0, 0, ..., 0, 0, 0], dtype=int64)"
      ]
     },
     "execution_count": 25,
     "metadata": {},
     "output_type": "execute_result"
    }
   ],
   "source": [
    "x_train_cv.toarray()[:2][0]"
   ]
  },
  {
   "cell_type": "code",
   "execution_count": 26,
   "id": "1bcac257",
   "metadata": {},
   "outputs": [
    {
     "data": {
      "text/plain": [
       "(4457, 7725)"
      ]
     },
     "execution_count": 26,
     "metadata": {},
     "output_type": "execute_result"
    }
   ],
   "source": [
    "x_train_cv.shape"
   ]
  },
  {
   "cell_type": "code",
   "execution_count": 27,
   "id": "7fec1b53",
   "metadata": {},
   "outputs": [
    {
     "data": {
      "text/plain": [
       "array(['anythingtomorrow', 'anytime', 'anyway', 'anyways', 'anywhere',\n",
       "       'aom', 'apart', 'apartment', 'apeshit', 'aphex', 'apnt', 'apo',\n",
       "       'apologetic', 'apologise', 'apologize', 'apology', 'app',\n",
       "       'apparently', 'appear', 'appendix', 'applausestore', 'applebees',\n",
       "       'apples', 'application', 'apply', 'applyed', 'appointment',\n",
       "       'appointments', 'appreciate', 'approaches', 'approaching',\n",
       "       'approve', 'approx', 'apps', 'appt', 'appy', 'april', 'aproach',\n",
       "       'apt', 'aptitude', 'aquarius', 'ar', 'arcade', 'archive', 'ard',\n",
       "       'are', 'area', 'aren', 'arent', 'aretaking'], dtype=object)"
      ]
     },
     "execution_count": 27,
     "metadata": {},
     "output_type": "execute_result"
    }
   ],
   "source": [
    "v.get_feature_names_out()[1000:1050]"
   ]
  },
  {
   "cell_type": "code",
   "execution_count": 28,
   "id": "59cf0873",
   "metadata": {},
   "outputs": [
    {
     "data": {
      "text/plain": [
       "array(['00', '000', '000pes', ..., 'zyada', 'ú1', '〨ud'], dtype=object)"
      ]
     },
     "execution_count": 28,
     "metadata": {},
     "output_type": "execute_result"
    }
   ],
   "source": [
    "v.get_feature_names_out()"
   ]
  },
  {
   "cell_type": "code",
   "execution_count": 29,
   "id": "137efc97",
   "metadata": {},
   "outputs": [
    {
     "data": {
      "text/plain": [
       "(7725,)"
      ]
     },
     "execution_count": 29,
     "metadata": {},
     "output_type": "execute_result"
    }
   ],
   "source": [
    "v.get_feature_names_out().shape"
   ]
  },
  {
   "cell_type": "code",
   "execution_count": 30,
   "id": "176dfc71",
   "metadata": {},
   "outputs": [
    {
     "data": {
      "text/plain": [
       "['__annotations__',\n",
       " '__class__',\n",
       " '__delattr__',\n",
       " '__dict__',\n",
       " '__dir__',\n",
       " '__doc__',\n",
       " '__eq__',\n",
       " '__format__',\n",
       " '__ge__',\n",
       " '__getattribute__',\n",
       " '__getstate__',\n",
       " '__gt__',\n",
       " '__hash__',\n",
       " '__init__',\n",
       " '__init_subclass__',\n",
       " '__le__',\n",
       " '__lt__',\n",
       " '__module__',\n",
       " '__ne__',\n",
       " '__new__',\n",
       " '__reduce__',\n",
       " '__reduce_ex__',\n",
       " '__repr__',\n",
       " '__setattr__',\n",
       " '__setstate__',\n",
       " '__sizeof__',\n",
       " '__str__',\n",
       " '__subclasshook__',\n",
       " '__weakref__',\n",
       " '_char_ngrams',\n",
       " '_char_wb_ngrams',\n",
       " '_check_feature_names',\n",
       " '_check_n_features',\n",
       " '_check_stop_words_consistency',\n",
       " '_check_vocabulary',\n",
       " '_count_vocab',\n",
       " '_get_param_names',\n",
       " '_get_tags',\n",
       " '_limit_features',\n",
       " '_more_tags',\n",
       " '_parameter_constraints',\n",
       " '_repr_html_',\n",
       " '_repr_html_inner',\n",
       " '_repr_mimebundle_',\n",
       " '_sort_features',\n",
       " '_stop_words_id',\n",
       " '_validate_data',\n",
       " '_validate_ngram_range',\n",
       " '_validate_params',\n",
       " '_validate_vocabulary',\n",
       " '_warn_for_unused_params',\n",
       " '_white_spaces',\n",
       " '_word_ngrams',\n",
       " 'analyzer',\n",
       " 'binary',\n",
       " 'build_analyzer',\n",
       " 'build_preprocessor',\n",
       " 'build_tokenizer',\n",
       " 'decode',\n",
       " 'decode_error',\n",
       " 'dtype',\n",
       " 'encoding',\n",
       " 'fit',\n",
       " 'fit_transform',\n",
       " 'fixed_vocabulary_',\n",
       " 'get_feature_names_out',\n",
       " 'get_params',\n",
       " 'get_stop_words',\n",
       " 'input',\n",
       " 'inverse_transform',\n",
       " 'lowercase',\n",
       " 'max_df',\n",
       " 'max_features',\n",
       " 'min_df',\n",
       " 'ngram_range',\n",
       " 'preprocessor',\n",
       " 'set_params',\n",
       " 'stop_words',\n",
       " 'stop_words_',\n",
       " 'strip_accents',\n",
       " 'token_pattern',\n",
       " 'tokenizer',\n",
       " 'transform',\n",
       " 'vocabulary',\n",
       " 'vocabulary_']"
      ]
     },
     "execution_count": 30,
     "metadata": {},
     "output_type": "execute_result"
    }
   ],
   "source": [
    "dir(v)"
   ]
  },
  {
   "cell_type": "code",
   "execution_count": 32,
   "id": "9bc674f7",
   "metadata": {},
   "outputs": [
    {
     "data": {
      "text/plain": [
       "{'fuck': 3011,\n",
       " 'babe': 1177,\n",
       " 'what': 7452,\n",
       " 'happened': 3318,\n",
       " 'to': 6900,\n",
       " 'you': 7685,\n",
       " 'how': 3515,\n",
       " 'come': 1905,\n",
       " 'never': 4724,\n",
       " 'came': 1616,\n",
       " 'back': 1186,\n",
       " 'at': 1107,\n",
       " 'home': 3467,\n",
       " 'please': 5211,\n",
       " 'call': 1597,\n",
       " 'guy': 3274,\n",
       " 'no': 4765,\n",
       " 'flash': 2875,\n",
       " 'me': 4381,\n",
       " 'now': 4809,\n",
       " 'if': 3596,\n",
       " 'go': 3147,\n",
       " 'madam': 4283,\n",
       " 'take': 6654,\n",
       " 'care': 1645,\n",
       " 'oh': 4879,\n",
       " 'aight': 877,\n",
       " 'tomorrow': 6926,\n",
       " 'around': 1065,\n",
       " 'lt': 4233,\n",
       " 'gt': 3253,\n",
       " 'it': 3754,\n",
       " 'is': 3743,\n",
       " 'its': 3760,\n",
       " 'too': 6939,\n",
       " 'late': 4016,\n",
       " 'but': 1566,\n",
       " 'wish': 7516,\n",
       " 'the': 6780,\n",
       " 'same': 5856,\n",
       " 'hi': 3417,\n",
       " 'dear': 2186,\n",
       " 'we': 7390,\n",
       " 'saw': 5889,\n",
       " 'both': 1434,\n",
       " 'are': 1045,\n",
       " 'happy': 3326,\n",
       " 'where': 7462,\n",
       " 'my': 4635,\n",
       " 'battery': 1239,\n",
       " 'low': 4222,\n",
       " 'otherwise': 4966,\n",
       " 'had': 3284,\n",
       " 'part': 5053,\n",
       " 'time': 6869,\n",
       " 'job': 3821,\n",
       " 'na': 4645,\n",
       " 'tuition': 7041,\n",
       " 'need': 4697,\n",
       " 'be': 1259,\n",
       " 'in': 3640,\n",
       " 'strong': 6497,\n",
       " 'arms': 1061,\n",
       " 'get': 3102,\n",
       " 'your': 7691,\n",
       " 'garden': 3062,\n",
       " 'ready': 5561,\n",
       " 'for': 2926,\n",
       " 'summer': 6565,\n",
       " 'with': 7524,\n",
       " 'free': 2968,\n",
       " 'selection': 5966,\n",
       " 'of': 4859,\n",
       " 'bulbs': 1548,\n",
       " 'and': 957,\n",
       " 'seeds': 5953,\n",
       " 'worth': 7588,\n",
       " '33': 435,\n",
       " '50': 528,\n",
       " 'only': 4912,\n",
       " 'scotsman': 5916,\n",
       " 'this': 6819,\n",
       " 'saturday': 5881,\n",
       " 'stop': 6464,\n",
       " 'go2': 3148,\n",
       " 'notxt': 4806,\n",
       " 'co': 1867,\n",
       " 'uk': 7091,\n",
       " 'darlin': 2159,\n",
       " 'was': 7364,\n",
       " 'work': 7573,\n",
       " 'did': 2291,\n",
       " 'into': 3712,\n",
       " 'trouble': 7014,\n",
       " 'ijust': 3603,\n",
       " 'talked': 6664,\n",
       " 'mum': 4616,\n",
       " 'all': 908,\n",
       " 'morning': 4560,\n",
       " 'really': 5571,\n",
       " 'good': 3173,\n",
       " 'last': 4013,\n",
       " 'night': 4747,\n",
       " 'im': 3612,\n",
       " 'goin': 3158,\n",
       " 'out': 4974,\n",
       " 'soon': 6290,\n",
       " 'can': 1620,\n",
       " 'later': 4019,\n",
       " 'guess': 3261,\n",
       " 'needa': 4698,\n",
       " 'do': 2366,\n",
       " 'mcat': 4378,\n",
       " 'study': 6512,\n",
       " 'keep': 3894,\n",
       " 'yourself': 7696,\n",
       " 'safe': 5836,\n",
       " 'because': 1270,\n",
       " 'miss': 4478,\n",
       " 'already': 921,\n",
       " 'envy': 2609,\n",
       " 'everyone': 2659,\n",
       " 'that': 6776,\n",
       " 'see': 5952,\n",
       " 'real': 5562,\n",
       " 'life': 4089,\n",
       " 'ur': 7171,\n",
       " '1st': 327,\n",
       " 'ringtone': 5748,\n",
       " 'reply': 5677,\n",
       " 'msg': 4590,\n",
       " 'tone': 6927,\n",
       " 'gr8': 3204,\n",
       " 'top': 6948,\n",
       " '20': 337,\n",
       " 'tones': 6928,\n",
       " 'phone': 5151,\n",
       " 'every': 2654,\n",
       " 'week': 7414,\n",
       " 'just': 3864,\n",
       " 'per': 5109,\n",
       " 'wk': 7534,\n",
       " 'opt': 4935,\n",
       " 'send': 5977,\n",
       " '08452810071': 64,\n",
       " '16': 307,\n",
       " 'nvm': 4833,\n",
       " 'going': 3160,\n",
       " 'wear': 7395,\n",
       " 'sport': 6375,\n",
       " 'shoes': 6076,\n",
       " 'anyway': 1002,\n",
       " 'leh': 4062,\n",
       " 'dont': 2402,\n",
       " 'knw': 3953,\n",
       " 'pa': 5007,\n",
       " 'drink': 2440,\n",
       " 'milk': 4446,\n",
       " 'yup': 7710,\n",
       " 'he': 3357,\n",
       " 'tat': 6678,\n",
       " 'yijue': 7678,\n",
       " 'then': 6793,\n",
       " 'tot': 6961,\n",
       " 'group': 3244,\n",
       " 'mate': 4355,\n",
       " 'cos': 2013,\n",
       " 'meeting': 4400,\n",
       " 'today': 6906,\n",
       " 'mah': 4293,\n",
       " 'askin': 1090,\n",
       " 'leaving': 4054,\n",
       " 'earlier': 2494,\n",
       " 'or': 4940,\n",
       " 'wat': 7370,\n",
       " 'mayb': 4373,\n",
       " 'haf': 3286,\n",
       " 'walk': 7333,\n",
       " 'far': 2763,\n",
       " 'wait': 7325,\n",
       " 'still': 6452,\n",
       " 'not': 4797,\n",
       " 'clear': 1831,\n",
       " 'were': 7439,\n",
       " 'sure': 6595,\n",
       " 'about': 754,\n",
       " 'being': 1301,\n",
       " 'sarcastic': 5868,\n",
       " 'why': 7480,\n",
       " 'doesn': 2378,\n",
       " 'want': 7350,\n",
       " 'live': 4137,\n",
       " 'us': 7184,\n",
       " 'sleeping': 6188,\n",
       " 'surfing': 6598,\n",
       " 'umma': 7098,\n",
       " 'she': 6043,\n",
       " 'called': 1603,\n",
       " 'might': 4442,\n",
       " 'ax': 1166,\n",
       " 'well': 7430,\n",
       " 'there': 6799,\n",
       " 'those': 6826,\n",
       " 'exact': 2677,\n",
       " 'intentions': 3700,\n",
       " 'loverboy': 4216,\n",
       " 'doing': 2389,\n",
       " 'does': 2376,\n",
       " 'keeps': 3896,\n",
       " 'him': 3428,\n",
       " 'from': 3001,\n",
       " 'coming': 1911,\n",
       " 'his': 3435,\n",
       " 'queen': 5483,\n",
       " 'hmmm': 3449,\n",
       " 'ache': 788,\n",
       " 'speak': 6327,\n",
       " 'desparately': 2262,\n",
       " 'yet': 7672,\n",
       " 'chikku': 1771,\n",
       " 'abt': 762,\n",
       " 'pete': 5136,\n",
       " 'ring': 5746,\n",
       " 'meive': 4407,\n",
       " 'hardly': 3330,\n",
       " 'gotany': 3192,\n",
       " 'credit': 2061,\n",
       " 'willing': 7497,\n",
       " 'aptitude': 1039,\n",
       " 'class': 1824,\n",
       " 'winner': 7507,\n",
       " 'as': 1078,\n",
       " 'valued': 7217,\n",
       " 'network': 4719,\n",
       " 'customer': 2120,\n",
       " 'hvae': 3565,\n",
       " 'been': 1283,\n",
       " 'selected': 5965,\n",
       " 'receive': 5587,\n",
       " '900': 717,\n",
       " 'reward': 5730,\n",
       " 'collect': 1889,\n",
       " '09061701444': 188,\n",
       " 'valid': 7213,\n",
       " '24': 357,\n",
       " 'hours': 3509,\n",
       " 'acl03530150pm': 791,\n",
       " 'hello': 3388,\n",
       " 'boytoy': 1464,\n",
       " 'made': 4284,\n",
       " 'constant': 1973,\n",
       " 'thought': 6830,\n",
       " 'love': 4210,\n",
       " 'hope': 3483,\n",
       " 'having': 3352,\n",
       " 'nice': 4740,\n",
       " 'visit': 7278,\n",
       " 'till': 6867,\n",
       " 'kiss': 3936,\n",
       " 'urgent': 7175,\n",
       " 'have': 3347,\n",
       " '800': 629,\n",
       " 'flights': 2884,\n",
       " 'europe': 2642,\n",
       " 'give': 3130,\n",
       " 'away': 1161,\n",
       " 'b4': 1171,\n",
       " '10th': 265,\n",
       " 'sept': 5991,\n",
       " 'friend': 2985,\n",
       " 'claim': 1815,\n",
       " 'on': 4901,\n",
       " '09050000555': 157,\n",
       " 'ba128nnfwfly150ppm': 1174,\n",
       " 'happen': 3316,\n",
       " 'her': 3403,\n",
       " 'tell': 6718,\n",
       " 'truth': 7024,\n",
       " 'cant': 1632,\n",
       " 'pick': 5164,\n",
       " 'right': 5740,\n",
       " 'pls': 5219,\n",
       " 'message': 4427,\n",
       " 'fine': 2844,\n",
       " 'sends': 5980,\n",
       " 'greetings': 3235,\n",
       " 'usual': 7198,\n",
       " 'iam': 3571,\n",
       " 'amp': 946,\n",
       " '09066350750': 216,\n",
       " 'landline': 3996,\n",
       " 'complimentary': 1938,\n",
       " 'ibiza': 3575,\n",
       " 'holiday': 3462,\n",
       " '10': 252,\n",
       " '000': 1,\n",
       " 'cash': 1666,\n",
       " 'await': 1156,\n",
       " 'collection': 1892,\n",
       " 'sae': 5834,\n",
       " 'cs': 2084,\n",
       " 'po': 5227,\n",
       " 'box': 1443,\n",
       " '434': 479,\n",
       " 'sk3': 6168,\n",
       " '8wp': 716,\n",
       " '150': 294,\n",
       " 'ppm': 5314,\n",
       " '18': 311,\n",
       " 'pee': 5097,\n",
       " 'burns': 1557,\n",
       " 'tonite': 6936,\n",
       " 'board': 1400,\n",
       " 'working': 7577,\n",
       " 'issue': 3751,\n",
       " 'overheating': 4995,\n",
       " 'also': 924,\n",
       " 'reslove': 5697,\n",
       " 'software': 6256,\n",
       " 'inst': 3690,\n",
       " 'pending': 5104,\n",
       " 'will': 7496,\n",
       " 'clock': 1841,\n",
       " 'pookie': 5267,\n",
       " 'pie': 5171,\n",
       " 'lol': 4172,\n",
       " 'didn': 2293,\n",
       " 'wake': 7329,\n",
       " 'up': 7154,\n",
       " 'when': 7458,\n",
       " 'finish': 2846,\n",
       " 'loads': 4152,\n",
       " 'loans': 4154,\n",
       " 'pay': 5082,\n",
       " 'our': 4972,\n",
       " '2nd': 399,\n",
       " 'attempt': 1116,\n",
       " 'contact': 1975,\n",
       " 'prize': 5384,\n",
       " 'yesterday': 7671,\n",
       " 'awaiting': 1157,\n",
       " '09061702893': 190,\n",
       " 'da': 2137,\n",
       " 'vijay': 7260,\n",
       " 'talk': 6662,\n",
       " 'jaya': 3791,\n",
       " 'tv': 7051,\n",
       " 'rajini': 5517,\n",
       " 'comes': 1907,\n",
       " '2nite': 402,\n",
       " 'okey': 4888,\n",
       " 'doke': 2391,\n",
       " 'dressed': 2438,\n",
       " 'laying': 4033,\n",
       " 'ill': 3609,\n",
       " 'bout': 1440,\n",
       " 'times': 6870,\n",
       " 'stuff': 6515,\n",
       " 'am': 932,\n",
       " 'hospital': 3497,\n",
       " 'return': 5719,\n",
       " 'evening': 2648,\n",
       " 'funk': 3030,\n",
       " 'fone': 2915,\n",
       " 'weekly': 7418,\n",
       " 'new': 4727,\n",
       " 'tones2u': 6929,\n",
       " 'text': 6752,\n",
       " 'www': 7621,\n",
       " 'ringtones': 5750,\n",
       " 'original': 4955,\n",
       " 'best': 1317,\n",
       " '3gbp': 449,\n",
       " 'operator': 4927,\n",
       " 'rates': 5535,\n",
       " 'apply': 1024,\n",
       " 'should': 6092,\n",
       " 'plan': 5196,\n",
       " 'tonight': 6934,\n",
       " 'ne': 4686,\n",
       " 'thing': 6808,\n",
       " 'interesting': 3703,\n",
       " 'birthday': 1353,\n",
       " 'wrking': 7605,\n",
       " 'nxt': 4835,\n",
       " 'started': 6416,\n",
       " 'uni': 7126,\n",
       " 'told': 6916,\n",
       " 'hr': 3524,\n",
       " 'posting': 5297,\n",
       " 'chennai': 1756,\n",
       " 'here': 3404,\n",
       " 'll': 4145,\n",
       " 'once': 4905,\n",
       " 'plus': 5222,\n",
       " 'said': 5840,\n",
       " 'grinule': 3238,\n",
       " 'greet': 3234,\n",
       " 'whenever': 7459,\n",
       " 'true': 7019,\n",
       " 'boy': 1459,\n",
       " 'glad': 3134,\n",
       " 'wasted': 7369,\n",
       " 'applebees': 1021,\n",
       " 'nothing': 4802,\n",
       " 'almost': 917,\n",
       " 'internet': 3707,\n",
       " 'down': 2421,\n",
       " 'hey': 3414,\n",
       " 'girl': 3124,\n",
       " 'an': 953,\n",
       " 'del': 2223,\n",
       " 'bak': 1196,\n",
       " 'again': 856,\n",
       " 'long': 4177,\n",
       " 'sum': 6562,\n",
       " 'lucyxx': 4243,\n",
       " 'joy': 3847,\n",
       " 'father': 2773,\n",
       " 'john': 3828,\n",
       " '____': 736,\n",
       " 'ans': 977,\n",
       " 'ths': 6846,\n",
       " 'hav': 3344,\n",
       " 'iq': 3735,\n",
       " 'tis': 6882,\n",
       " 'ias': 3572,\n",
       " 'question': 5486,\n",
       " 'try': 7025,\n",
       " 'answer': 979,\n",
       " 'mornin': 4559,\n",
       " 'thanku': 6772,\n",
       " 'many': 4328,\n",
       " 'players': 5206,\n",
       " 'watching': 7375,\n",
       " 'lor': 4191,\n",
       " 'friends': 2986,\n",
       " 'valentines': 7212,\n",
       " 'day': 2176,\n",
       " 'url': 7181,\n",
       " 'compliments': 1939,\n",
       " 'system': 6640,\n",
       " 'side': 6123,\n",
       " 'vote': 7297,\n",
       " 'wherever': 7464,\n",
       " 'heart': 3371,\n",
       " 'guides': 3268,\n",
       " 'eaten': 2507,\n",
       " 'wan': 7345,\n",
       " 'em': 2556,\n",
       " 'olowoyey': 4897,\n",
       " 'usc': 7187,\n",
       " 'edu': 2519,\n",
       " 'great': 3229,\n",
       " 'argentina': 1050,\n",
       " 'sad': 5833,\n",
       " 'secretary': 5943,\n",
       " 'everything': 2663,\n",
       " 'blessing': 1376,\n",
       " 'sir': 6152,\n",
       " 'waiting': 7328,\n",
       " 'mail': 4297,\n",
       " 'ha': 3282,\n",
       " 'popped': 5274,\n",
       " 'loo': 4179,\n",
       " 'ed': 2515,\n",
       " 'leave': 4052,\n",
       " 'big': 1335,\n",
       " 'deal': 2183,\n",
       " 'blame': 1366,\n",
       " 'days': 2177,\n",
       " 'happiness': 3325,\n",
       " 'bad': 1188,\n",
       " 'experience': 2704,\n",
       " 'essential': 2633,\n",
       " 'gods': 3154,\n",
       " 'blessings': 1377,\n",
       " 'princess': 5373,\n",
       " 'like': 4098,\n",
       " 'make': 4304,\n",
       " 'thats': 6779,\n",
       " 'problem': 5390,\n",
       " 'they': 6804,\n",
       " 'one': 4906,\n",
       " 'nighters': 4748,\n",
       " 'persevered': 5125,\n",
       " 'found': 2952,\n",
       " 'very': 7242,\n",
       " 'cheap': 1739,\n",
       " 'so': 6250,\n",
       " 'apologise': 1013,\n",
       " 'advance': 830,\n",
       " 'somewhere': 6280,\n",
       " 'sleep': 6186,\n",
       " 'isnt': 3750,\n",
       " 'two': 7061,\n",
       " 'fundamentals': 3028,\n",
       " 'cool': 1997,\n",
       " 'king': 3930,\n",
       " 'whoever': 7474,\n",
       " 'gud': 3258,\n",
       " 'nyt': 4839,\n",
       " 'stupid': 6520,\n",
       " 'possible': 5291,\n",
       " 'india': 3661,\n",
       " 'lead': 4042,\n",
       " 'alright': 922,\n",
       " 're': 5550,\n",
       " 'hooked': 3480,\n",
       " 'guys': 3275,\n",
       " 'hostel': 3499,\n",
       " 'plz': 5224,\n",
       " 'before': 1289,\n",
       " 'hrishi': 3525,\n",
       " 'book': 1415,\n",
       " 'which': 7467,\n",
       " 'lesson': 4072,\n",
       " 'after': 849,\n",
       " 'sth': 6447,\n",
       " 'specs': 6336,\n",
       " 'membership': 4414,\n",
       " 'px3748': 5475,\n",
       " 'replying': 5678,\n",
       " 'has': 3334,\n",
       " 'boye': 1460,\n",
       " 'changed': 1714,\n",
       " 'number': 4824,\n",
       " 'half': 3294,\n",
       " 'hour': 3507,\n",
       " 'ok': 4884,\n",
       " 'sony': 6287,\n",
       " 'ericsson': 2615,\n",
       " 'salesman': 5847,\n",
       " 'ask': 1087,\n",
       " 'shuhui': 6114,\n",
       " 'say': 5890,\n",
       " 'quite': 5493,\n",
       " 'gd': 3080,\n",
       " 'use': 7188,\n",
       " 'considering': 1971,\n",
       " 'double': 2415,\n",
       " 'mins': 4464,\n",
       " 'txts': 7071,\n",
       " 'orange': 4943,\n",
       " 'price': 5368,\n",
       " 'linerental': 4115,\n",
       " 'motorola': 4572,\n",
       " 'sonyericsson': 6288,\n",
       " 'tooth': 6945,\n",
       " 'nokia': 4773,\n",
       " 'mobileupd8': 4518,\n",
       " '08000839402': 47,\n",
       " 'or2optout': 4941,\n",
       " 'hv9d': 3564,\n",
       " '140': 287,\n",
       " 'ard': 1044,\n",
       " 'rest': 5709,\n",
       " '180': 312,\n",
       " 'least': 4051,\n",
       " 'bedrm': 1279,\n",
       " 'put': 5469,\n",
       " 'know': 3950,\n",
       " 'booked': 1416,\n",
       " 'ticket': 6856,\n",
       " 'pongal': 5264,\n",
       " 'maybe': 4374,\n",
       " 'could': 2023,\n",
       " 'tomo': 6924,\n",
       " 'immediately': 3623,\n",
       " 'something': 6275,\n",
       " 'god': 3153,\n",
       " 'gave': 3071,\n",
       " 'them': 6789,\n",
       " 'photo': 5157,\n",
       " 'registered': 5629,\n",
       " 'driving': 2448,\n",
       " 'ah': 867,\n",
       " 'tmr': 6894,\n",
       " 'wanna': 7348,\n",
       " 'meet': 4398,\n",
       " 'yck': 7656,\n",
       " 'speaking': 6328,\n",
       " 'any': 990,\n",
       " 'parked': 5050,\n",
       " 'purity': 5461,\n",
       " 'friendship': 2988,\n",
       " 'between': 1323,\n",
       " 'smiling': 6223,\n",
       " 'reading': 5560,\n",
       " 'forwarded': 2951,\n",
       " 'by': 1582,\n",
       " 'seeing': 5954,\n",
       " 'name': 4655,\n",
       " 'evng': 2669,\n",
       " 'musthu': 4632,\n",
       " 'awake': 1158,\n",
       " 'snow': 6246,\n",
       " 'yo': 7680,\n",
       " 'dude': 2472,\n",
       " 'who': 7473,\n",
       " 'got': 3190,\n",
       " 'arrested': 1069,\n",
       " 'other': 4964,\n",
       " 'nope': 4783,\n",
       " 'sch': 5904,\n",
       " 'fri': 2981,\n",
       " 'early': 2495,\n",
       " 'mys': 4640,\n",
       " 'sis': 6154,\n",
       " 'paper': 5033,\n",
       " 'morn': 4558,\n",
       " 'uncles': 7108,\n",
       " 'atlanta': 1110,\n",
       " 'semester': 5975,\n",
       " 'pathaya': 5075,\n",
       " 'enketa': 2588,\n",
       " 'maraikara': 4332,\n",
       " 'course': 2033,\n",
       " '2yrs': 416,\n",
       " 'messages': 4429,\n",
       " 'messenger': 4431,\n",
       " 'lik': 4097,\n",
       " 'sending': 5979,\n",
       " 'geeeee': 3085,\n",
       " 'eh': 2533,\n",
       " 'getting': 3110,\n",
       " 'anywhere': 1004,\n",
       " 'damn': 2147,\n",
       " 'hunting': 3553,\n",
       " 'over': 4991,\n",
       " 'card': 1641,\n",
       " 'gas': 3065,\n",
       " 'think': 6810,\n",
       " 'waste': 7368,\n",
       " 'rr': 5796,\n",
       " 'fancy': 2759,\n",
       " 'shag': 6022,\n",
       " 'interested': 3702,\n",
       " 'sextextuk': 6013,\n",
       " 'com': 1899,\n",
       " 'txt': 7063,\n",
       " 'xxuk': 7636,\n",
       " 'suzy': 6608,\n",
       " '69876': 587,\n",
       " 'cost': 2015,\n",
       " 'tncs': 6899,\n",
       " 'website': 7405,\n",
       " 'enc': 2569,\n",
       " 'plenty': 5216,\n",
       " 'water': 7377,\n",
       " 'freemsg': 2973,\n",
       " 'horny': 3492,\n",
       " 'town': 6971,\n",
       " 'sex': 6011,\n",
       " 'fun': 3024,\n",
       " 'games': 3053,\n",
       " 'netcollex': 4715,\n",
       " 'ltd': 4234,\n",
       " '08700621170150p': 70,\n",
       " 'end': 2570,\n",
       " 'solve': 6263,\n",
       " 'case': 1665,\n",
       " 'man': 4314,\n",
       " 'murdered': 4623,\n",
       " 'decimal': 2198,\n",
       " 'afternoon': 851,\n",
       " 'wife': 7488,\n",
       " 'police': 5254,\n",
       " 'questioned': 5487,\n",
       " 'murder': 4622,\n",
       " 'took': 6940,\n",
       " 'place': 5191,\n",
       " 'cook': 1993,\n",
       " 'cooking': 1996,\n",
       " 'gardener': 3063,\n",
       " 'picking': 5166,\n",
       " 'vegetables': 7232,\n",
       " 'house': 3510,\n",
       " 'maid': 4296,\n",
       " 'went': 7436,\n",
       " 'post': 5292,\n",
       " 'office': 4869,\n",
       " 'children': 1775,\n",
       " 'play': 5203,\n",
       " 'neighbour': 4709,\n",
       " 'marriage': 4341,\n",
       " 'murderer': 4624,\n",
       " 'reason': 5575,\n",
       " 'brilliant': 1498,\n",
       " 'printer': 5376,\n",
       " 'mean': 4384,\n",
       " 'groovy': 3241,\n",
       " 'wine': 7504,\n",
       " 'groovying': 3242,\n",
       " '3510i': 438,\n",
       " 'colour': 1896,\n",
       " 'deliveredtomorrow': 2231,\n",
       " '300': 418,\n",
       " 'minutes': 4468,\n",
       " 'mobile': 4515,\n",
       " '100': 253,\n",
       " 'texts': 6762,\n",
       " 'camcorder': 1615,\n",
       " '08000930705': 48,\n",
       " 'thanks': 6769,\n",
       " 'loving': 4219,\n",
       " 'rock': 5765,\n",
       " 'check': 1744,\n",
       " 'listed': 4128,\n",
       " 'belive': 1303,\n",
       " 'dad': 2141,\n",
       " 'lar': 4008,\n",
       " 'stay': 6427,\n",
       " 'until': 7153,\n",
       " 'meh': 4405,\n",
       " 'next': 4736,\n",
       " 'mini': 4457,\n",
       " 'woo': 7563,\n",
       " 'hoo': 3477,\n",
       " 'party': 5060,\n",
       " 'wanted': 7352,\n",
       " 'apartment': 1007,\n",
       " 'start': 6415,\n",
       " 'omw': 4900,\n",
       " 'touch': 6965,\n",
       " 'easiest': 2500,\n",
       " 'way': 7385,\n",
       " 'barcelona': 1217,\n",
       " 'ru': 5802,\n",
       " 'justbeen': 3865,\n",
       " 'overa': 4992,\n",
       " 'since': 6142,\n",
       " 'broke': 1512,\n",
       " 'brains': 1470,\n",
       " 'mush': 4625,\n",
       " 'thk': 6820,\n",
       " '530': 546,\n",
       " 'dunno': 2480,\n",
       " 'tickets': 6857,\n",
       " 'help': 3391,\n",
       " 'ashley': 1082,\n",
       " 'find': 2841,\n",
       " 'doc': 2369,\n",
       " 'pain': 5016,\n",
       " 'meds': 4397,\n",
       " 'says': 5894,\n",
       " 'balance': 1198,\n",
       " '600': 564,\n",
       " 'complete': 1932,\n",
       " 'landmark': 3999,\n",
       " 'bob': 1403,\n",
       " 'barry': 1224,\n",
       " 'ben': 1311,\n",
       " '83738': 664,\n",
       " 'luck': 4238,\n",
       " 'ic': 3578,\n",
       " 'meant': 4388,\n",
       " 'mary': 4345,\n",
       " 'jane': 3781,\n",
       " 'stopped': 6470,\n",
       " 'ice': 3580,\n",
       " 'cream': 2057,\n",
       " 'fantastic': 2761,\n",
       " 'chance': 1711,\n",
       " 'anything': 999,\n",
       " 'bigger': 1336,\n",
       " 'lift': 4093,\n",
       " 'losing': 4195,\n",
       " 'would': 7592,\n",
       " 'first': 2858,\n",
       " 'person': 5127,\n",
       " 'die': 2296,\n",
       " 'ahhh': 870,\n",
       " 'vaguely': 7209,\n",
       " 'remember': 5649,\n",
       " 'feel': 2791,\n",
       " 'hate': 3340,\n",
       " 'didnt': 2294,\n",
       " 'accept': 772,\n",
       " 'even': 2647,\n",
       " 'single': 6148,\n",
       " 'mine': 4455,\n",
       " 'messaged': 4428,\n",
       " 'honey': 3473,\n",
       " 'boo': 1413,\n",
       " 'missing': 4482,\n",
       " 'th': 6764,\n",
       " 'gower': 3201,\n",
       " 'wales': 7331,\n",
       " 'morrow': 4563,\n",
       " 'random': 5526,\n",
       " 'brother': 1518,\n",
       " 'sister': 6155,\n",
       " 'lover': 4215,\n",
       " 'dear1': 2187,\n",
       " 'best1': 1318,\n",
       " 'clos1': 1843,\n",
       " 'lvblefrnd': 4254,\n",
       " 'jstfrnd': 3852,\n",
       " 'cutefrnd': 2126,\n",
       " 'lifpartnr': 4092,\n",
       " 'belovd': 1309,\n",
       " 'swtheart': 6635,\n",
       " 'bstfrnd': 1531,\n",
       " 'rply': 5795,\n",
       " 'means': 4387,\n",
       " 'enemy': 2576,\n",
       " 'silent': 6132,\n",
       " 'mode': 4524,\n",
       " 'much': 4607,\n",
       " 'huh': 3539,\n",
       " 'fr': 2958,\n",
       " 'dinner': 2321,\n",
       " 'mm': 4501,\n",
       " 'laid': 3989,\n",
       " 'dogging': 2383,\n",
       " 'locations': 4158,\n",
       " 'sent': 5986,\n",
       " 'direct': 2326,\n",
       " 'join': 3829,\n",
       " 'largest': 4010,\n",
       " 'park': 5049,\n",
       " '69696': 583,\n",
       " 'ec2a': 2511,\n",
       " '3lp': 452,\n",
       " 'latest': 4020,\n",
       " 'news': 4732,\n",
       " 'station': 6425,\n",
       " 'toilet': 6912,\n",
       " 'stolen': 6457,\n",
       " 'cops': 2002,\n",
       " 'hide': 3419,\n",
       " 'anythiing': 997,\n",
       " 'keeping': 3895,\n",
       " 'distance': 2350,\n",
       " 'antha': 986,\n",
       " 'num': 4823,\n",
       " 'corrct': 2007,\n",
       " 'dane': 2153,\n",
       " 'responding': 5704,\n",
       " 'fucks': 3016,\n",
       " 'sake': 5841,\n",
       " 'let': 4074,\n",
       " 've': 7230,\n",
       " 'actually': 805,\n",
       " 'enjoy': 2584,\n",
       " 'sweet': 6621,\n",
       " 'may': 4372,\n",
       " '4u': 522,\n",
       " 'carlos': 1656,\n",
       " 'gauge': 3068,\n",
       " 'patty': 5079,\n",
       " 'interest': 3701,\n",
       " 'money': 4540,\n",
       " 'tea': 6695,\n",
       " 'flavour': 2878,\n",
       " 'loan': 4153,\n",
       " 'purpose': 5463,\n",
       " '500': 529,\n",
       " '75': 610,\n",
       " 'homeowners': 3468,\n",
       " 'tenants': 6729,\n",
       " 'welcome': 7428,\n",
       " 'previously': 5366,\n",
       " 'refused': 5622,\n",
       " '0800': 44,\n",
       " '1956669': 316,\n",
       " 'til': 6866,\n",
       " 'nite': 4759,\n",
       " 'opening': 4924,\n",
       " 'mca': 4377,\n",
       " 'sing': 6145,\n",
       " 'hu': 3530,\n",
       " 'important': 3629,\n",
       " 'someone': 6269,\n",
       " 'female': 2801,\n",
       " 'preferably': 5338,\n",
       " 'citizen': 1811,\n",
       " 'smart': 6211,\n",
       " 'navigate': 4683,\n",
       " 'through': 6839,\n",
       " 'things': 6809,\n",
       " 'choosing': 1796,\n",
       " 'require': 5685,\n",
       " 'guidance': 3266,\n",
       " 'doubt': 2419,\n",
       " 'especially': 2631,\n",
       " 'girls': 3127,\n",
       " 'lets': 4075,\n",
       " 'uh': 7087,\n",
       " 'heads': 3362,\n",
       " 'don': 2398,\n",
       " 'left': 4057,\n",
       " 'some': 6265,\n",
       " 'lasting': 4015,\n",
       " 'lucky': 4240,\n",
       " 'talking': 6666,\n",
       " 'alian': 905,\n",
       " 'probably': 5389,\n",
       " 'won': 7555,\n",
       " 'eat': 2506,\n",
       " 'gonna': 3171,\n",
       " 'pop': 5272,\n",
       " 'weekend': 7416,\n",
       " 'mmmm': 4503,\n",
       " 'lick': 4084,\n",
       " 'service': 5998,\n",
       " 'video': 7253,\n",
       " 'chat': 1734,\n",
       " 'mob': 4513,\n",
       " 'sexiest': 6012,\n",
       " 'dirtiest': 2330,\n",
       " 'details': 2268,\n",
       " '89070': 703,\n",
       " 'cancel': 1624,\n",
       " 'gain': 3045,\n",
       " 'rights': 5743,\n",
       " 'demand': 2236,\n",
       " 'trying': 7027,\n",
       " 'husband': 3560,\n",
       " 'practising': 5321,\n",
       " 'curtsey': 2116,\n",
       " 'hmm': 3448,\n",
       " 'eye': 2722,\n",
       " 'sore': 6295,\n",
       " 'ass': 1097,\n",
       " 'south': 6310,\n",
       " 'tampa': 6670,\n",
       " 'kegger': 3897,\n",
       " 'current': 2113,\n",
       " 'leading': 4044,\n",
       " 'bid': 1333,\n",
       " '151': 303,\n",
       " 'pause': 5080,\n",
       " 'auction': 1128,\n",
       " '08718726270': 135,\n",
       " 'thursday': 6851,\n",
       " 'yay': 7655,\n",
       " 'cheers': 1752,\n",
       " 'yeah': 7657,\n",
       " 'hows': 3520,\n",
       " 'school': 5906,\n",
       " 'aiyar': 886,\n",
       " 'hard': 3327,\n",
       " 'type': 7077,\n",
       " 'scold': 5909,\n",
       " 'turns': 7050,\n",
       " 'shopping': 6081,\n",
       " 'trip': 7008,\n",
       " 'annoying': 973,\n",
       " 'look': 4180,\n",
       " 'tall': 6668,\n",
       " 'happening': 3320,\n",
       " 'jst': 3851,\n",
       " 'change': 1713,\n",
       " 'stressfull': 6487,\n",
       " 'always': 930,\n",
       " 'laugh': 4023,\n",
       " 'add': 808,\n",
       " 'years': 7659,\n",
       " 'surely': 6596,\n",
       " 'adds': 815,\n",
       " 'more': 4556,\n",
       " 'ni8': 4738,\n",
       " 'swt': 6634,\n",
       " 'dreams': 2435,\n",
       " 'nah': 4650,\n",
       " 'wasn': 7366,\n",
       " 'reality': 5567,\n",
       " 'ipod': 3734,\n",
       " 'mp3': 4583,\n",
       " 'player': 5205,\n",
       " '400': 464,\n",
       " 'proze': 5435,\n",
       " 'guaranteed': 3256,\n",
       " 'win': 7499,\n",
       " '83355': 659,\n",
       " 'norcorp': 4786,\n",
       " 'mtmsgrcvd18': 4604,\n",
       " 'okay': 4885,\n",
       " 'charge': 1723,\n",
       " 'camera': 1617,\n",
       " 'smaller': 6210,\n",
       " 'capacity': 1635,\n",
       " 'ex': 2676,\n",
       " 'hasn': 3336,\n",
       " 'pattern': 5078,\n",
       " 'recently': 5592,\n",
       " 'crap': 2048,\n",
       " 'weekends': 7417,\n",
       " 'gals': 3049,\n",
       " 'anyone': 994,\n",
       " 'centre': 1698,\n",
       " 'link': 4119,\n",
       " 'picture': 5169,\n",
       " 'http': 3529,\n",
       " 'alto18': 927,\n",
       " 'wave': 7383,\n",
       " 'asp': 1095,\n",
       " '44345': 483,\n",
       " ...}"
      ]
     },
     "execution_count": 32,
     "metadata": {},
     "output_type": "execute_result"
    }
   ],
   "source": [
    "v.vocabulary_"
   ]
  },
  {
   "cell_type": "code",
   "execution_count": 35,
   "id": "1fc8b056",
   "metadata": {},
   "outputs": [
    {
     "data": {
      "text/plain": [
       "'come'"
      ]
     },
     "execution_count": 35,
     "metadata": {},
     "output_type": "execute_result"
    }
   ],
   "source": [
    "v.get_feature_names_out()[1905]"
   ]
  },
  {
   "cell_type": "code",
   "execution_count": 36,
   "id": "694ce12c",
   "metadata": {},
   "outputs": [
    {
     "data": {
      "text/plain": [
       "array([[0, 0, 0, ..., 0, 0, 0],\n",
       "       [0, 0, 0, ..., 0, 0, 0],\n",
       "       [0, 0, 0, ..., 0, 0, 0],\n",
       "       ...,\n",
       "       [0, 0, 0, ..., 0, 0, 0],\n",
       "       [0, 0, 0, ..., 0, 0, 0],\n",
       "       [0, 0, 0, ..., 0, 0, 0]], dtype=int64)"
      ]
     },
     "execution_count": 36,
     "metadata": {},
     "output_type": "execute_result"
    }
   ],
   "source": [
    "x_train_np = x_train_cv.toarray()\n",
    "x_train_np"
   ]
  },
  {
   "cell_type": "code",
   "execution_count": 44,
   "id": "db81de51",
   "metadata": {},
   "outputs": [
    {
     "data": {
      "text/plain": [
       "(array([1177, 1186, 1616, 1905, 3011, 3318, 3515, 4724, 6900, 7452, 7685],\n",
       "       dtype=int64),)"
      ]
     },
     "execution_count": 44,
     "metadata": {},
     "output_type": "execute_result"
    }
   ],
   "source": [
    "np.where(x_train_np[0]!=0)\n",
    "# np.where(x_train_np[2]!=0)"
   ]
  },
  {
   "cell_type": "code",
   "execution_count": 47,
   "id": "20f75b3c",
   "metadata": {},
   "outputs": [
    {
     "data": {
      "text/plain": [
       "'Aight, tomorrow around  &lt;#&gt;  it is'"
      ]
     },
     "execution_count": 47,
     "metadata": {},
     "output_type": "execute_result"
    }
   ],
   "source": [
    "x_train[:4][2869]"
   ]
  },
  {
   "cell_type": "code",
   "execution_count": 49,
   "id": "7e95373a",
   "metadata": {},
   "outputs": [
    {
     "data": {
      "text/plain": [
       "1"
      ]
     },
     "execution_count": 49,
     "metadata": {},
     "output_type": "execute_result"
    }
   ],
   "source": [
    "x_train_np[0][1177]"
   ]
  },
  {
   "cell_type": "markdown",
   "id": "371f7fb5",
   "metadata": {},
   "source": [
    "## Train the naive bayes model"
   ]
  },
  {
   "cell_type": "code",
   "execution_count": 50,
   "id": "1ab7f892",
   "metadata": {},
   "outputs": [
    {
     "data": {
      "text/html": [
       "<style>#sk-container-id-1 {color: black;background-color: white;}#sk-container-id-1 pre{padding: 0;}#sk-container-id-1 div.sk-toggleable {background-color: white;}#sk-container-id-1 label.sk-toggleable__label {cursor: pointer;display: block;width: 100%;margin-bottom: 0;padding: 0.3em;box-sizing: border-box;text-align: center;}#sk-container-id-1 label.sk-toggleable__label-arrow:before {content: \"▸\";float: left;margin-right: 0.25em;color: #696969;}#sk-container-id-1 label.sk-toggleable__label-arrow:hover:before {color: black;}#sk-container-id-1 div.sk-estimator:hover label.sk-toggleable__label-arrow:before {color: black;}#sk-container-id-1 div.sk-toggleable__content {max-height: 0;max-width: 0;overflow: hidden;text-align: left;background-color: #f0f8ff;}#sk-container-id-1 div.sk-toggleable__content pre {margin: 0.2em;color: black;border-radius: 0.25em;background-color: #f0f8ff;}#sk-container-id-1 input.sk-toggleable__control:checked~div.sk-toggleable__content {max-height: 200px;max-width: 100%;overflow: auto;}#sk-container-id-1 input.sk-toggleable__control:checked~label.sk-toggleable__label-arrow:before {content: \"▾\";}#sk-container-id-1 div.sk-estimator input.sk-toggleable__control:checked~label.sk-toggleable__label {background-color: #d4ebff;}#sk-container-id-1 div.sk-label input.sk-toggleable__control:checked~label.sk-toggleable__label {background-color: #d4ebff;}#sk-container-id-1 input.sk-hidden--visually {border: 0;clip: rect(1px 1px 1px 1px);clip: rect(1px, 1px, 1px, 1px);height: 1px;margin: -1px;overflow: hidden;padding: 0;position: absolute;width: 1px;}#sk-container-id-1 div.sk-estimator {font-family: monospace;background-color: #f0f8ff;border: 1px dotted black;border-radius: 0.25em;box-sizing: border-box;margin-bottom: 0.5em;}#sk-container-id-1 div.sk-estimator:hover {background-color: #d4ebff;}#sk-container-id-1 div.sk-parallel-item::after {content: \"\";width: 100%;border-bottom: 1px solid gray;flex-grow: 1;}#sk-container-id-1 div.sk-label:hover label.sk-toggleable__label {background-color: #d4ebff;}#sk-container-id-1 div.sk-serial::before {content: \"\";position: absolute;border-left: 1px solid gray;box-sizing: border-box;top: 0;bottom: 0;left: 50%;z-index: 0;}#sk-container-id-1 div.sk-serial {display: flex;flex-direction: column;align-items: center;background-color: white;padding-right: 0.2em;padding-left: 0.2em;position: relative;}#sk-container-id-1 div.sk-item {position: relative;z-index: 1;}#sk-container-id-1 div.sk-parallel {display: flex;align-items: stretch;justify-content: center;background-color: white;position: relative;}#sk-container-id-1 div.sk-item::before, #sk-container-id-1 div.sk-parallel-item::before {content: \"\";position: absolute;border-left: 1px solid gray;box-sizing: border-box;top: 0;bottom: 0;left: 50%;z-index: -1;}#sk-container-id-1 div.sk-parallel-item {display: flex;flex-direction: column;z-index: 1;position: relative;background-color: white;}#sk-container-id-1 div.sk-parallel-item:first-child::after {align-self: flex-end;width: 50%;}#sk-container-id-1 div.sk-parallel-item:last-child::after {align-self: flex-start;width: 50%;}#sk-container-id-1 div.sk-parallel-item:only-child::after {width: 0;}#sk-container-id-1 div.sk-dashed-wrapped {border: 1px dashed gray;margin: 0 0.4em 0.5em 0.4em;box-sizing: border-box;padding-bottom: 0.4em;background-color: white;}#sk-container-id-1 div.sk-label label {font-family: monospace;font-weight: bold;display: inline-block;line-height: 1.2em;}#sk-container-id-1 div.sk-label-container {text-align: center;}#sk-container-id-1 div.sk-container {/* jupyter's `normalize.less` sets `[hidden] { display: none; }` but bootstrap.min.css set `[hidden] { display: none !important; }` so we also need the `!important` here to be able to override the default hidden behavior on the sphinx rendered scikit-learn.org. See: https://github.com/scikit-learn/scikit-learn/issues/21755 */display: inline-block !important;position: relative;}#sk-container-id-1 div.sk-text-repr-fallback {display: none;}</style><div id=\"sk-container-id-1\" class=\"sk-top-container\"><div class=\"sk-text-repr-fallback\"><pre>MultinomialNB()</pre><b>In a Jupyter environment, please rerun this cell to show the HTML representation or trust the notebook. <br />On GitHub, the HTML representation is unable to render, please try loading this page with nbviewer.org.</b></div><div class=\"sk-container\" hidden><div class=\"sk-item\"><div class=\"sk-estimator sk-toggleable\"><input class=\"sk-toggleable__control sk-hidden--visually\" id=\"sk-estimator-id-1\" type=\"checkbox\" checked><label for=\"sk-estimator-id-1\" class=\"sk-toggleable__label sk-toggleable__label-arrow\">MultinomialNB</label><div class=\"sk-toggleable__content\"><pre>MultinomialNB()</pre></div></div></div></div></div>"
      ],
      "text/plain": [
       "MultinomialNB()"
      ]
     },
     "execution_count": 50,
     "metadata": {},
     "output_type": "execute_result"
    }
   ],
   "source": [
    "from sklearn.naive_bayes import MultinomialNB\n",
    "\n",
    "model = MultinomialNB()\n",
    "model.fit(x_train_cv, y_train)"
   ]
  },
  {
   "cell_type": "code",
   "execution_count": 52,
   "id": "74d15d93",
   "metadata": {},
   "outputs": [
    {
     "data": {
      "text/plain": [
       "<1115x7725 sparse matrix of type '<class 'numpy.int64'>'\n",
       "\twith 13812 stored elements in Compressed Sparse Row format>"
      ]
     },
     "execution_count": 52,
     "metadata": {},
     "output_type": "execute_result"
    }
   ],
   "source": [
    "x_test_cv = v.transform(x_test)\n",
    "x_test_cv"
   ]
  },
  {
   "cell_type": "markdown",
   "id": "5557c39c",
   "metadata": {},
   "source": [
    "## Evaluate the Performance"
   ]
  },
  {
   "cell_type": "code",
   "execution_count": 55,
   "id": "b7cf763c",
   "metadata": {},
   "outputs": [
    {
     "name": "stdout",
     "output_type": "stream",
     "text": [
      "              precision    recall  f1-score   support\n",
      "\n",
      "           0       0.99      0.99      0.99       962\n",
      "           1       0.97      0.94      0.95       153\n",
      "\n",
      "    accuracy                           0.99      1115\n",
      "   macro avg       0.98      0.97      0.97      1115\n",
      "weighted avg       0.99      0.99      0.99      1115\n",
      "\n"
     ]
    }
   ],
   "source": [
    "from sklearn.metrics import classification_report\n",
    "\n",
    "y_pred = model.predict(x_test_cv)\n",
    "print(classification_report(y_test, y_pred))"
   ]
  },
  {
   "cell_type": "code",
   "execution_count": 56,
   "id": "7549bff7",
   "metadata": {},
   "outputs": [
    {
     "data": {
      "text/plain": [
       "array([0, 1], dtype=int64)"
      ]
     },
     "execution_count": 56,
     "metadata": {},
     "output_type": "execute_result"
    }
   ],
   "source": [
    "emails = [\n",
    "    'Hey mohan, can we get together to watch footbal game tomorrow?',\n",
    "    'Upto 20% discount on parking, exclusive offer just for you. Dont miss this reward!'\n",
    "]\n",
    "\n",
    "emails_count = v.transform(emails)\n",
    "model.predict(emails_count)"
   ]
  },
  {
   "cell_type": "markdown",
   "id": "24e2c543",
   "metadata": {},
   "source": [
    "## Train the model using sklearn pipeline and reduce number of lines of code"
   ]
  },
  {
   "cell_type": "code",
   "execution_count": 57,
   "id": "93ad0b00",
   "metadata": {},
   "outputs": [],
   "source": [
    "from sklearn.pipeline import Pipeline\n",
    "\n",
    "clf = Pipeline([\n",
    "    ('vectorizer', CountVectorizer()),\n",
    "    ('nb', MultinomialNB())\n",
    "])"
   ]
  },
  {
   "cell_type": "code",
   "execution_count": 58,
   "id": "2f4dbf06",
   "metadata": {},
   "outputs": [
    {
     "data": {
      "text/html": [
       "<style>#sk-container-id-2 {color: black;background-color: white;}#sk-container-id-2 pre{padding: 0;}#sk-container-id-2 div.sk-toggleable {background-color: white;}#sk-container-id-2 label.sk-toggleable__label {cursor: pointer;display: block;width: 100%;margin-bottom: 0;padding: 0.3em;box-sizing: border-box;text-align: center;}#sk-container-id-2 label.sk-toggleable__label-arrow:before {content: \"▸\";float: left;margin-right: 0.25em;color: #696969;}#sk-container-id-2 label.sk-toggleable__label-arrow:hover:before {color: black;}#sk-container-id-2 div.sk-estimator:hover label.sk-toggleable__label-arrow:before {color: black;}#sk-container-id-2 div.sk-toggleable__content {max-height: 0;max-width: 0;overflow: hidden;text-align: left;background-color: #f0f8ff;}#sk-container-id-2 div.sk-toggleable__content pre {margin: 0.2em;color: black;border-radius: 0.25em;background-color: #f0f8ff;}#sk-container-id-2 input.sk-toggleable__control:checked~div.sk-toggleable__content {max-height: 200px;max-width: 100%;overflow: auto;}#sk-container-id-2 input.sk-toggleable__control:checked~label.sk-toggleable__label-arrow:before {content: \"▾\";}#sk-container-id-2 div.sk-estimator input.sk-toggleable__control:checked~label.sk-toggleable__label {background-color: #d4ebff;}#sk-container-id-2 div.sk-label input.sk-toggleable__control:checked~label.sk-toggleable__label {background-color: #d4ebff;}#sk-container-id-2 input.sk-hidden--visually {border: 0;clip: rect(1px 1px 1px 1px);clip: rect(1px, 1px, 1px, 1px);height: 1px;margin: -1px;overflow: hidden;padding: 0;position: absolute;width: 1px;}#sk-container-id-2 div.sk-estimator {font-family: monospace;background-color: #f0f8ff;border: 1px dotted black;border-radius: 0.25em;box-sizing: border-box;margin-bottom: 0.5em;}#sk-container-id-2 div.sk-estimator:hover {background-color: #d4ebff;}#sk-container-id-2 div.sk-parallel-item::after {content: \"\";width: 100%;border-bottom: 1px solid gray;flex-grow: 1;}#sk-container-id-2 div.sk-label:hover label.sk-toggleable__label {background-color: #d4ebff;}#sk-container-id-2 div.sk-serial::before {content: \"\";position: absolute;border-left: 1px solid gray;box-sizing: border-box;top: 0;bottom: 0;left: 50%;z-index: 0;}#sk-container-id-2 div.sk-serial {display: flex;flex-direction: column;align-items: center;background-color: white;padding-right: 0.2em;padding-left: 0.2em;position: relative;}#sk-container-id-2 div.sk-item {position: relative;z-index: 1;}#sk-container-id-2 div.sk-parallel {display: flex;align-items: stretch;justify-content: center;background-color: white;position: relative;}#sk-container-id-2 div.sk-item::before, #sk-container-id-2 div.sk-parallel-item::before {content: \"\";position: absolute;border-left: 1px solid gray;box-sizing: border-box;top: 0;bottom: 0;left: 50%;z-index: -1;}#sk-container-id-2 div.sk-parallel-item {display: flex;flex-direction: column;z-index: 1;position: relative;background-color: white;}#sk-container-id-2 div.sk-parallel-item:first-child::after {align-self: flex-end;width: 50%;}#sk-container-id-2 div.sk-parallel-item:last-child::after {align-self: flex-start;width: 50%;}#sk-container-id-2 div.sk-parallel-item:only-child::after {width: 0;}#sk-container-id-2 div.sk-dashed-wrapped {border: 1px dashed gray;margin: 0 0.4em 0.5em 0.4em;box-sizing: border-box;padding-bottom: 0.4em;background-color: white;}#sk-container-id-2 div.sk-label label {font-family: monospace;font-weight: bold;display: inline-block;line-height: 1.2em;}#sk-container-id-2 div.sk-label-container {text-align: center;}#sk-container-id-2 div.sk-container {/* jupyter's `normalize.less` sets `[hidden] { display: none; }` but bootstrap.min.css set `[hidden] { display: none !important; }` so we also need the `!important` here to be able to override the default hidden behavior on the sphinx rendered scikit-learn.org. See: https://github.com/scikit-learn/scikit-learn/issues/21755 */display: inline-block !important;position: relative;}#sk-container-id-2 div.sk-text-repr-fallback {display: none;}</style><div id=\"sk-container-id-2\" class=\"sk-top-container\"><div class=\"sk-text-repr-fallback\"><pre>Pipeline(steps=[(&#x27;vectorizer&#x27;, CountVectorizer()), (&#x27;nb&#x27;, MultinomialNB())])</pre><b>In a Jupyter environment, please rerun this cell to show the HTML representation or trust the notebook. <br />On GitHub, the HTML representation is unable to render, please try loading this page with nbviewer.org.</b></div><div class=\"sk-container\" hidden><div class=\"sk-item sk-dashed-wrapped\"><div class=\"sk-label-container\"><div class=\"sk-label sk-toggleable\"><input class=\"sk-toggleable__control sk-hidden--visually\" id=\"sk-estimator-id-2\" type=\"checkbox\" ><label for=\"sk-estimator-id-2\" class=\"sk-toggleable__label sk-toggleable__label-arrow\">Pipeline</label><div class=\"sk-toggleable__content\"><pre>Pipeline(steps=[(&#x27;vectorizer&#x27;, CountVectorizer()), (&#x27;nb&#x27;, MultinomialNB())])</pre></div></div></div><div class=\"sk-serial\"><div class=\"sk-item\"><div class=\"sk-estimator sk-toggleable\"><input class=\"sk-toggleable__control sk-hidden--visually\" id=\"sk-estimator-id-3\" type=\"checkbox\" ><label for=\"sk-estimator-id-3\" class=\"sk-toggleable__label sk-toggleable__label-arrow\">CountVectorizer</label><div class=\"sk-toggleable__content\"><pre>CountVectorizer()</pre></div></div></div><div class=\"sk-item\"><div class=\"sk-estimator sk-toggleable\"><input class=\"sk-toggleable__control sk-hidden--visually\" id=\"sk-estimator-id-4\" type=\"checkbox\" ><label for=\"sk-estimator-id-4\" class=\"sk-toggleable__label sk-toggleable__label-arrow\">MultinomialNB</label><div class=\"sk-toggleable__content\"><pre>MultinomialNB()</pre></div></div></div></div></div></div></div>"
      ],
      "text/plain": [
       "Pipeline(steps=[('vectorizer', CountVectorizer()), ('nb', MultinomialNB())])"
      ]
     },
     "execution_count": 58,
     "metadata": {},
     "output_type": "execute_result"
    }
   ],
   "source": [
    "clf.fit(x_train, y_train)"
   ]
  },
  {
   "cell_type": "code",
   "execution_count": 60,
   "id": "6270a57c",
   "metadata": {},
   "outputs": [
    {
     "name": "stdout",
     "output_type": "stream",
     "text": [
      "              precision    recall  f1-score   support\n",
      "\n",
      "           0       0.99      0.99      0.99       962\n",
      "           1       0.97      0.94      0.95       153\n",
      "\n",
      "    accuracy                           0.99      1115\n",
      "   macro avg       0.98      0.97      0.97      1115\n",
      "weighted avg       0.99      0.99      0.99      1115\n",
      "\n"
     ]
    }
   ],
   "source": [
    "y_predict = clf.predict(x_test)\n",
    "print(classification_report(y_test, y_predict))"
   ]
  },
  {
   "cell_type": "code",
   "execution_count": null,
   "id": "a5c5f182",
   "metadata": {},
   "outputs": [],
   "source": []
  }
 ],
 "metadata": {
  "kernelspec": {
   "display_name": "Python 3 (ipykernel)",
   "language": "python",
   "name": "python3"
  },
  "language_info": {
   "codemirror_mode": {
    "name": "ipython",
    "version": 3
   },
   "file_extension": ".py",
   "mimetype": "text/x-python",
   "name": "python",
   "nbconvert_exporter": "python",
   "pygments_lexer": "ipython3",
   "version": "3.10.9"
  }
 },
 "nbformat": 4,
 "nbformat_minor": 5
}
