{
 "cells": [
  {
   "cell_type": "markdown",
   "id": "2044fea3",
   "metadata": {},
   "source": [
    "# Part of Speech POS (Tagging)"
   ]
  },
  {
   "cell_type": "code",
   "execution_count": 1,
   "id": "a6bab57f",
   "metadata": {},
   "outputs": [],
   "source": [
    "import spacy"
   ]
  },
  {
   "cell_type": "code",
   "execution_count": 2,
   "id": "f8b69524",
   "metadata": {},
   "outputs": [],
   "source": [
    "nlp = spacy.load(\"en_core_web_sm\")"
   ]
  },
  {
   "cell_type": "code",
   "execution_count": 9,
   "id": "61e9638f",
   "metadata": {},
   "outputs": [
    {
     "data": {
      "text/plain": [
       "['tok2vec', 'tagger', 'parser', 'attribute_ruler', 'lemmatizer', 'ner']"
      ]
     },
     "execution_count": 9,
     "metadata": {},
     "output_type": "execute_result"
    }
   ],
   "source": [
    "nlp.pipe_names"
   ]
  },
  {
   "cell_type": "markdown",
   "id": "492f6b82",
   "metadata": {},
   "source": [
    "## POS tags"
   ]
  },
  {
   "cell_type": "code",
   "execution_count": 10,
   "id": "8caf7e84",
   "metadata": {},
   "outputs": [
    {
     "name": "stdout",
     "output_type": "stream",
     "text": [
      "Elon | PROPN | 96\n",
      "flew | VERB | 100\n",
      "to | ADP | 85\n",
      "Mars | PROPN | 96\n",
      "yesterday | NOUN | 92\n",
      ". | PUNCT | 97\n",
      "He | PRON | 95\n",
      "carried | VERB | 100\n",
      "biryani | ADJ | 84\n",
      "masala | NOUN | 92\n",
      "with | ADP | 85\n",
      "him | PRON | 95\n",
      ". | PUNCT | 97\n"
     ]
    }
   ],
   "source": [
    "doc = nlp(\"Elon flew to Mars yesterday. He carried biryani masala with him.\")\n",
    "\n",
    "for token in doc:\n",
    "    print(token, \"|\", token.pos_, \"|\", token.pos)"
   ]
  },
  {
   "cell_type": "code",
   "execution_count": 11,
   "id": "01dd2e6c",
   "metadata": {},
   "outputs": [
    {
     "name": "stdout",
     "output_type": "stream",
     "text": [
      "Elon | PROPN | proper noun\n",
      "flew | VERB | verb\n",
      "to | ADP | adposition\n",
      "Mars | PROPN | proper noun\n",
      "yesterday | NOUN | noun\n",
      ". | PUNCT | punctuation\n",
      "He | PRON | pronoun\n",
      "carried | VERB | verb\n",
      "biryani | ADJ | adjective\n",
      "masala | NOUN | noun\n",
      "with | ADP | adposition\n",
      "him | PRON | pronoun\n",
      ". | PUNCT | punctuation\n"
     ]
    }
   ],
   "source": [
    "for token in doc:\n",
    "    print(token, \"|\", token.pos_, \"|\", spacy.explain(token.pos_))"
   ]
  },
  {
   "cell_type": "code",
   "execution_count": 14,
   "id": "38f66944",
   "metadata": {},
   "outputs": [
    {
     "name": "stdout",
     "output_type": "stream",
     "text": [
      "Wow | INTJ | interjection | UH\n",
      "! | PUNCT | punctuation | .\n",
      "Dr. | PROPN | proper noun | NNP\n",
      "Strange | PROPN | proper noun | NNP\n",
      "made | VERB | verb | VBD\n",
      "265 | NUM | numeral | CD\n",
      "million | NUM | numeral | CD\n",
      "$ | NUM | numeral | CD\n",
      "on | ADP | adposition | IN\n",
      "the | DET | determiner | DT\n",
      "very | ADV | adverb | RB\n",
      "first | ADJ | adjective | JJ\n",
      "day | NOUN | noun | NN\n",
      ". | PUNCT | punctuation | .\n"
     ]
    }
   ],
   "source": [
    "doc1 = nlp(\"Wow! Dr. Strange made 265 million $ on the very first day.\")\n",
    "\n",
    "for token in doc1:\n",
    "    print(token, \"|\", token.pos_, \"|\", spacy.explain(token.pos_), \"|\", token.tag_)"
   ]
  },
  {
   "cell_type": "markdown",
   "id": "3fc19bcd",
   "metadata": {},
   "source": [
    "## Tags"
   ]
  },
  {
   "cell_type": "code",
   "execution_count": 16,
   "id": "1e7517d7",
   "metadata": {},
   "outputs": [
    {
     "name": "stdout",
     "output_type": "stream",
     "text": [
      "Wow | UH | interjection\n",
      "! | . | punctuation mark, sentence closer\n",
      "Dr. | NNP | noun, proper singular\n",
      "Strange | NNP | noun, proper singular\n",
      "made | VBD | verb, past tense\n",
      "265 | CD | cardinal number\n",
      "million | CD | cardinal number\n",
      "$ | CD | cardinal number\n",
      "on | IN | conjunction, subordinating or preposition\n",
      "the | DT | determiner\n",
      "very | RB | adverb\n",
      "first | JJ | adjective (English), other noun-modifier (Chinese)\n",
      "day | NN | noun, singular or mass\n",
      ". | . | punctuation mark, sentence closer\n"
     ]
    }
   ],
   "source": [
    "for token in doc1:\n",
    "    print(token, \"|\", token.tag_, \"|\", spacy.explain(token.tag_))"
   ]
  },
  {
   "cell_type": "markdown",
   "id": "24f8548a",
   "metadata": {},
   "source": [
    "## In below sentences Spacy figures out the past vs present tense for quit"
   ]
  },
  {
   "cell_type": "code",
   "execution_count": 18,
   "id": "113d0638",
   "metadata": {},
   "outputs": [
    {
     "name": "stdout",
     "output_type": "stream",
     "text": [
      "quits | VBZ | verb, 3rd person singular present\n"
     ]
    }
   ],
   "source": [
    "doc2 = nlp(\"He quits the job.\")\n",
    "\n",
    "doc2[1]\n",
    "print(doc2[1].text, \"|\", doc2[1].tag_, \"|\", spacy.explain(doc2[1].tag_))"
   ]
  },
  {
   "cell_type": "code",
   "execution_count": 19,
   "id": "356e0f34",
   "metadata": {},
   "outputs": [
    {
     "name": "stdout",
     "output_type": "stream",
     "text": [
      "quit | VBD | verb, past tense\n"
     ]
    }
   ],
   "source": [
    "doc2 = nlp(\"He quit the job.\")\n",
    "\n",
    "doc2[1]\n",
    "print(doc2[1].text, \"|\", doc2[1].tag_, \"|\", spacy.explain(doc2[1].tag_))"
   ]
  },
  {
   "cell_type": "markdown",
   "id": "45d5cdf9",
   "metadata": {},
   "source": [
    "## Removing all SPACE, PUNCT and X token from text"
   ]
  },
  {
   "cell_type": "code",
   "execution_count": 21,
   "id": "9d810814",
   "metadata": {},
   "outputs": [],
   "source": [
    "earnings_text=\"\"\"Microsoft Corp. today announced the following results for the quarter ended December 31, 2021, as compared to the corresponding period of last fiscal year:\n",
    "\n",
    "·         Revenue was $51.7 billion and increased 20%\n",
    "·         Operating income was $22.2 billion and increased 24%\n",
    "·         Net income was $18.8 billion and increased 21%\n",
    "·         Diluted earnings per share was $2.48 and increased 22%\n",
    "“Digital technology etc. is the most malleable resource at the world’s disposal to overcome constraints and reimagine everyday work and life,” said Satya Nadella, chairman and chief executive officer of Microsoft. “As tech as a percentage of global GDP continues to increase, we are innovating and investing across diverse and growing markets, with a common underlying technology stack and an operating model that reinforces a common strategy, culture, and sense of purpose.”\n",
    "“Solid commercial execution, represented by strong bookings growth driven by long-term Azure commitments, increased Microsoft Cloud revenue to $22.1 billion, up 32% year over year” said Amy Hood, executive vice president and chief financial officer of Microsoft.\"\"\"\n"
   ]
  },
  {
   "cell_type": "code",
   "execution_count": 22,
   "id": "3f21fa4a",
   "metadata": {},
   "outputs": [
    {
     "name": "stdout",
     "output_type": "stream",
     "text": [
      "Microsoft | PROPN | proper noun\n",
      "Corp. | PROPN | proper noun\n",
      "today | NOUN | noun\n",
      "announced | VERB | verb\n",
      "the | DET | determiner\n",
      "following | VERB | verb\n",
      "results | NOUN | noun\n",
      "for | ADP | adposition\n",
      "the | DET | determiner\n",
      "quarter | NOUN | noun\n",
      "ended | VERB | verb\n",
      "December | PROPN | proper noun\n",
      "31 | NUM | numeral\n",
      ", | PUNCT | punctuation\n",
      "2021 | NUM | numeral\n",
      ", | PUNCT | punctuation\n",
      "as | SCONJ | subordinating conjunction\n",
      "compared | VERB | verb\n",
      "to | ADP | adposition\n",
      "the | DET | determiner\n",
      "corresponding | ADJ | adjective\n",
      "period | NOUN | noun\n",
      "of | ADP | adposition\n",
      "last | ADJ | adjective\n",
      "fiscal | ADJ | adjective\n",
      "year | NOUN | noun\n",
      ": | PUNCT | punctuation\n",
      "\n",
      "\n",
      " | SPACE | space\n",
      "· | PUNCT | punctuation\n",
      "         | SPACE | space\n",
      "Revenue | NOUN | noun\n",
      "was | AUX | auxiliary\n",
      "$ | SYM | symbol\n",
      "51.7 | NUM | numeral\n",
      "billion | NUM | numeral\n",
      "and | CCONJ | coordinating conjunction\n",
      "increased | VERB | verb\n",
      "20 | NUM | numeral\n",
      "% | NOUN | noun\n",
      "\n",
      " | SPACE | space\n",
      "· | PUNCT | punctuation\n",
      "         | SPACE | space\n",
      "Operating | VERB | verb\n",
      "income | NOUN | noun\n",
      "was | AUX | auxiliary\n",
      "$ | SYM | symbol\n",
      "22.2 | NUM | numeral\n",
      "billion | NUM | numeral\n",
      "and | CCONJ | coordinating conjunction\n",
      "increased | VERB | verb\n",
      "24 | NUM | numeral\n",
      "% | NOUN | noun\n",
      "\n",
      " | SPACE | space\n",
      "· | PUNCT | punctuation\n",
      "         | SPACE | space\n",
      "Net | ADJ | adjective\n",
      "income | NOUN | noun\n",
      "was | AUX | auxiliary\n",
      "$ | SYM | symbol\n",
      "18.8 | NUM | numeral\n",
      "billion | NUM | numeral\n",
      "and | CCONJ | coordinating conjunction\n",
      "increased | VERB | verb\n",
      "21 | NUM | numeral\n",
      "% | NOUN | noun\n",
      "\n",
      " | SPACE | space\n",
      "· | PUNCT | punctuation\n",
      "         | SPACE | space\n",
      "Diluted | VERB | verb\n",
      "earnings | NOUN | noun\n",
      "per | ADP | adposition\n",
      "share | NOUN | noun\n",
      "was | AUX | auxiliary\n",
      "$ | SYM | symbol\n",
      "2.48 | NUM | numeral\n",
      "and | CCONJ | coordinating conjunction\n",
      "increased | VERB | verb\n",
      "22 | NUM | numeral\n",
      "% | NOUN | noun\n",
      "\n",
      " | SPACE | space\n",
      "“ | PUNCT | punctuation\n",
      "Digital | PROPN | proper noun\n",
      "technology | NOUN | noun\n",
      "is | AUX | auxiliary\n",
      "the | DET | determiner\n",
      "most | ADV | adverb\n",
      "malleable | ADJ | adjective\n",
      "resource | NOUN | noun\n",
      "at | ADP | adposition\n",
      "the | DET | determiner\n",
      "world | NOUN | noun\n",
      "’s | PART | particle\n",
      "disposal | NOUN | noun\n",
      "to | PART | particle\n",
      "overcome | VERB | verb\n",
      "constraints | NOUN | noun\n",
      "and | CCONJ | coordinating conjunction\n",
      "reimagine | VERB | verb\n",
      "everyday | ADJ | adjective\n",
      "work | NOUN | noun\n",
      "and | CCONJ | coordinating conjunction\n",
      "life | NOUN | noun\n",
      ", | PUNCT | punctuation\n",
      "” | PUNCT | punctuation\n",
      "said | VERB | verb\n",
      "Satya | PROPN | proper noun\n",
      "Nadella | PROPN | proper noun\n",
      ", | PUNCT | punctuation\n",
      "chairman | NOUN | noun\n",
      "and | CCONJ | coordinating conjunction\n",
      "chief | ADJ | adjective\n",
      "executive | ADJ | adjective\n",
      "officer | NOUN | noun\n",
      "of | ADP | adposition\n",
      "Microsoft | PROPN | proper noun\n",
      ". | PUNCT | punctuation\n",
      "“ | PUNCT | punctuation\n",
      "As | ADV | adverb\n",
      "tech | NOUN | noun\n",
      "as | ADP | adposition\n",
      "a | DET | determiner\n",
      "percentage | NOUN | noun\n",
      "of | ADP | adposition\n",
      "global | ADJ | adjective\n",
      "GDP | PROPN | proper noun\n",
      "continues | VERB | verb\n",
      "to | PART | particle\n",
      "increase | VERB | verb\n",
      ", | PUNCT | punctuation\n",
      "we | PRON | pronoun\n",
      "are | AUX | auxiliary\n",
      "innovating | VERB | verb\n",
      "and | CCONJ | coordinating conjunction\n",
      "investing | VERB | verb\n",
      "across | ADP | adposition\n",
      "diverse | ADJ | adjective\n",
      "and | CCONJ | coordinating conjunction\n",
      "growing | VERB | verb\n",
      "markets | NOUN | noun\n",
      ", | PUNCT | punctuation\n",
      "with | ADP | adposition\n",
      "a | DET | determiner\n",
      "common | ADJ | adjective\n",
      "underlying | VERB | verb\n",
      "technology | NOUN | noun\n",
      "stack | NOUN | noun\n",
      "and | CCONJ | coordinating conjunction\n",
      "an | DET | determiner\n",
      "operating | NOUN | noun\n",
      "model | NOUN | noun\n",
      "that | PRON | pronoun\n",
      "reinforces | VERB | verb\n",
      "a | DET | determiner\n",
      "common | ADJ | adjective\n",
      "strategy | NOUN | noun\n",
      ", | PUNCT | punctuation\n",
      "culture | NOUN | noun\n",
      ", | PUNCT | punctuation\n",
      "and | CCONJ | coordinating conjunction\n",
      "sense | NOUN | noun\n",
      "of | ADP | adposition\n",
      "purpose | NOUN | noun\n",
      ". | PUNCT | punctuation\n",
      "” | PUNCT | punctuation\n",
      "\n",
      " | SPACE | space\n",
      "“ | PUNCT | punctuation\n",
      "Solid | ADJ | adjective\n",
      "commercial | ADJ | adjective\n",
      "execution | NOUN | noun\n",
      ", | PUNCT | punctuation\n",
      "represented | VERB | verb\n",
      "by | ADP | adposition\n",
      "strong | ADJ | adjective\n",
      "bookings | NOUN | noun\n",
      "growth | NOUN | noun\n",
      "driven | VERB | verb\n",
      "by | ADP | adposition\n",
      "long | ADJ | adjective\n",
      "- | PUNCT | punctuation\n",
      "term | NOUN | noun\n",
      "Azure | ADJ | adjective\n",
      "commitments | NOUN | noun\n",
      ", | PUNCT | punctuation\n",
      "increased | VERB | verb\n",
      "Microsoft | PROPN | proper noun\n",
      "Cloud | PROPN | proper noun\n",
      "revenue | NOUN | noun\n",
      "to | ADP | adposition\n",
      "$ | SYM | symbol\n",
      "22.1 | NUM | numeral\n",
      "billion | NUM | numeral\n",
      ", | PUNCT | punctuation\n",
      "up | ADV | adverb\n",
      "32 | NUM | numeral\n",
      "% | NOUN | noun\n",
      "year | NOUN | noun\n",
      "over | ADP | adposition\n",
      "year | NOUN | noun\n",
      "” | PUNCT | punctuation\n",
      "said | VERB | verb\n",
      "Amy | PROPN | proper noun\n",
      "Hood | PROPN | proper noun\n",
      ", | PUNCT | punctuation\n",
      "executive | ADJ | adjective\n",
      "vice | NOUN | noun\n",
      "president | NOUN | noun\n",
      "and | CCONJ | coordinating conjunction\n",
      "chief | ADJ | adjective\n",
      "financial | ADJ | adjective\n",
      "officer | NOUN | noun\n",
      "of | ADP | adposition\n",
      "Microsoft | PROPN | proper noun\n",
      ". | PUNCT | punctuation\n"
     ]
    }
   ],
   "source": [
    "doc3 = nlp(earnings_text)\n",
    "\n",
    "for token in doc3:\n",
    "    print(token, \"|\", token.pos_, \"|\", spacy.explain(token.pos_))"
   ]
  },
  {
   "cell_type": "code",
   "execution_count": 24,
   "id": "78bcf09c",
   "metadata": {},
   "outputs": [
    {
     "name": "stdout",
     "output_type": "stream",
     "text": [
      ", | PUNCT | punctuation\n",
      ", | PUNCT | punctuation\n",
      ": | PUNCT | punctuation\n",
      "\n",
      "\n",
      " | SPACE | space\n",
      "· | PUNCT | punctuation\n",
      "         | SPACE | space\n",
      "\n",
      " | SPACE | space\n",
      "· | PUNCT | punctuation\n",
      "         | SPACE | space\n",
      "\n",
      " | SPACE | space\n",
      "· | PUNCT | punctuation\n",
      "         | SPACE | space\n",
      "\n",
      " | SPACE | space\n",
      "· | PUNCT | punctuation\n",
      "         | SPACE | space\n",
      "\n",
      " | SPACE | space\n",
      "“ | PUNCT | punctuation\n",
      ", | PUNCT | punctuation\n",
      "” | PUNCT | punctuation\n",
      ", | PUNCT | punctuation\n",
      ". | PUNCT | punctuation\n",
      "“ | PUNCT | punctuation\n",
      ", | PUNCT | punctuation\n",
      ", | PUNCT | punctuation\n",
      ", | PUNCT | punctuation\n",
      ", | PUNCT | punctuation\n",
      ". | PUNCT | punctuation\n",
      "” | PUNCT | punctuation\n",
      "\n",
      " | SPACE | space\n",
      "“ | PUNCT | punctuation\n",
      ", | PUNCT | punctuation\n",
      "- | PUNCT | punctuation\n",
      ", | PUNCT | punctuation\n",
      ", | PUNCT | punctuation\n",
      "” | PUNCT | punctuation\n",
      ", | PUNCT | punctuation\n",
      ". | PUNCT | punctuation\n"
     ]
    }
   ],
   "source": [
    "for token in doc3:\n",
    "    if token.pos_ in [\"SPACE\", \"X\", \"PUNCT\"]:\n",
    "        print(token, \"|\", token.pos_, \"|\", spacy.explain(token.pos_))"
   ]
  },
  {
   "cell_type": "code",
   "execution_count": 26,
   "id": "32ac3f4b",
   "metadata": {},
   "outputs": [
    {
     "name": "stdout",
     "output_type": "stream",
     "text": [
      "[Microsoft, Corp., today, announced, the, following, results, for, the, quarter, ended, December, 31, 2021, as, compared, to, the, corresponding, period]\n"
     ]
    }
   ],
   "source": [
    "filtered_tokens = []\n",
    "\n",
    "for token in doc3:\n",
    "    if token.pos_ not in [\"SPACE\", \"X\", \"PUNCT\"]:\n",
    "        filtered_tokens.append(token)\n",
    "        \n",
    "print(filtered_tokens[:20])"
   ]
  },
  {
   "cell_type": "code",
   "execution_count": 27,
   "id": "06fb3a55",
   "metadata": {},
   "outputs": [
    {
     "data": {
      "text/plain": [
       "{96: 13,\n",
       " 92: 46,\n",
       " 100: 24,\n",
       " 90: 9,\n",
       " 85: 16,\n",
       " 93: 16,\n",
       " 97: 27,\n",
       " 98: 1,\n",
       " 84: 20,\n",
       " 103: 10,\n",
       " 87: 6,\n",
       " 99: 5,\n",
       " 89: 12,\n",
       " 86: 3,\n",
       " 94: 3,\n",
       " 95: 2}"
      ]
     },
     "execution_count": 27,
     "metadata": {},
     "output_type": "execute_result"
    }
   ],
   "source": [
    "count = doc3.count_by(spacy.attrs.POS)\n",
    "count"
   ]
  },
  {
   "cell_type": "code",
   "execution_count": 30,
   "id": "050058d5",
   "metadata": {},
   "outputs": [
    {
     "data": {
      "text/plain": [
       "'PROPN'"
      ]
     },
     "execution_count": 30,
     "metadata": {},
     "output_type": "execute_result"
    }
   ],
   "source": [
    "doc3.vocab[96].text"
   ]
  },
  {
   "cell_type": "code",
   "execution_count": 32,
   "id": "c353765a",
   "metadata": {},
   "outputs": [
    {
     "name": "stdout",
     "output_type": "stream",
     "text": [
      "96 --> PROPN | 13\n",
      "92 --> NOUN | 46\n",
      "100 --> VERB | 24\n",
      "90 --> DET | 9\n",
      "85 --> ADP | 16\n",
      "93 --> NUM | 16\n",
      "97 --> PUNCT | 27\n",
      "98 --> SCONJ | 1\n",
      "84 --> ADJ | 20\n",
      "103 --> SPACE | 10\n",
      "87 --> AUX | 6\n",
      "99 --> SYM | 5\n",
      "89 --> CCONJ | 12\n",
      "86 --> ADV | 3\n",
      "94 --> PART | 3\n",
      "95 --> PRON | 2\n"
     ]
    }
   ],
   "source": [
    "for k,v in count.items():\n",
    "    print(k, \"-->\", doc3.vocab[k].text, \"|\", v)"
   ]
  },
  {
   "cell_type": "code",
   "execution_count": null,
   "id": "73461790",
   "metadata": {},
   "outputs": [],
   "source": []
  },
  {
   "cell_type": "code",
   "execution_count": null,
   "id": "31db489c",
   "metadata": {},
   "outputs": [],
   "source": []
  },
  {
   "cell_type": "markdown",
   "id": "30bfb3c1",
   "metadata": {},
   "source": [
    "## Exercise"
   ]
  },
  {
   "cell_type": "code",
   "execution_count": 33,
   "id": "c0e990f7",
   "metadata": {},
   "outputs": [],
   "source": [
    "import spacy\n",
    "nlp = spacy.load(\"en_core_web_sm\")"
   ]
  },
  {
   "cell_type": "markdown",
   "id": "48c052f7",
   "metadata": {},
   "source": [
    "### Reading a new story"
   ]
  },
  {
   "cell_type": "code",
   "execution_count": 34,
   "id": "8b2b6f21",
   "metadata": {},
   "outputs": [
    {
     "data": {
      "text/plain": [
       "'Inflation rose again in April, continuing a climb that has pushed consumers to the brink and is threatening the economic expansion, the Bureau of Labor Statistics reported Wednesday.\\n\\nThe consumer price index, a broad-based measure of prices for goods and services, increased 8.3% from a year ago, higher than the Dow Jones estimate for an 8.1% gain. That represented a slight ease from Marchâ€™s peak but was still close to the highest level since the summer of 1982.\\n\\nRemoving volatile food and ene'"
      ]
     },
     "execution_count": 34,
     "metadata": {},
     "output_type": "execute_result"
    }
   ],
   "source": [
    "with open(\"news_story.txt\", \"r\") as f:\n",
    "    news_text = f.read()\n",
    "    \n",
    "news_text[:500]"
   ]
  },
  {
   "cell_type": "markdown",
   "id": "8bd2e2c3",
   "metadata": {},
   "source": [
    "### Extract NOUN and NUM tokens"
   ]
  },
  {
   "cell_type": "code",
   "execution_count": 36,
   "id": "c19f5eb1",
   "metadata": {},
   "outputs": [],
   "source": [
    "new_doc = nlp(news_text)\n",
    "\n",
    "num_tokens = []\n",
    "noun_tokens = []\n",
    "\n",
    "for token in new_doc:\n",
    "    if token.pos_ == \"NOUN\":\n",
    "        noun_tokens.append(token)\n",
    "    elif token.pos_ == \"NUM\":\n",
    "        num_tokens.append(token)"
   ]
  },
  {
   "cell_type": "code",
   "execution_count": 38,
   "id": "f800e282",
   "metadata": {},
   "outputs": [
    {
     "name": "stdout",
     "output_type": "stream",
     "text": [
      "[8.3, 8.1, 1982, 6.2, 6, â€, 0.3, 0.2, 0.6, 0.4, 0.1, 0.3, 2.6, 5.5, 2021, 1984, one, two, two, 2]\n"
     ]
    }
   ],
   "source": [
    "print(num_tokens[:20])"
   ]
  },
  {
   "cell_type": "code",
   "execution_count": 39,
   "id": "8bfd17c4",
   "metadata": {},
   "outputs": [
    {
     "name": "stdout",
     "output_type": "stream",
     "text": [
      "[Inflation, climb, consumers, brink, expansion, consumer, price, index, measure, prices, goods, services, %, year, estimate, %, gain, ease, Marchâ€, ™]\n"
     ]
    }
   ],
   "source": [
    "print(noun_tokens[:20])"
   ]
  },
  {
   "cell_type": "markdown",
   "id": "d27261fe",
   "metadata": {},
   "source": [
    "### Print a count of all POS tags"
   ]
  },
  {
   "cell_type": "code",
   "execution_count": 40,
   "id": "f164d23e",
   "metadata": {},
   "outputs": [
    {
     "data": {
      "text/plain": [
       "{92: 98,\n",
       " 100: 27,\n",
       " 86: 15,\n",
       " 85: 39,\n",
       " 96: 17,\n",
       " 97: 32,\n",
       " 90: 34,\n",
       " 95: 4,\n",
       " 87: 13,\n",
       " 89: 10,\n",
       " 84: 23,\n",
       " 103: 7,\n",
       " 93: 20,\n",
       " 94: 4,\n",
       " 98: 8,\n",
       " 101: 1}"
      ]
     },
     "execution_count": 40,
     "metadata": {},
     "output_type": "execute_result"
    }
   ],
   "source": [
    "count = new_doc.count_by(spacy.attrs.POS)\n",
    "count"
   ]
  },
  {
   "cell_type": "code",
   "execution_count": 41,
   "id": "04f06564",
   "metadata": {},
   "outputs": [
    {
     "name": "stdout",
     "output_type": "stream",
     "text": [
      "92 --> NOUN | 98\n",
      "100 --> VERB | 27\n",
      "86 --> ADV | 15\n",
      "85 --> ADP | 39\n",
      "96 --> PROPN | 17\n",
      "97 --> PUNCT | 32\n",
      "90 --> DET | 34\n",
      "95 --> PRON | 4\n",
      "87 --> AUX | 13\n",
      "89 --> CCONJ | 10\n",
      "84 --> ADJ | 23\n",
      "103 --> SPACE | 7\n",
      "93 --> NUM | 20\n",
      "94 --> PART | 4\n",
      "98 --> SCONJ | 8\n",
      "101 --> X | 1\n"
     ]
    }
   ],
   "source": [
    "for k,v in count.items():\n",
    "    print(k, \"-->\", new_doc.vocab[k].text, \"|\", v)"
   ]
  },
  {
   "cell_type": "code",
   "execution_count": null,
   "id": "68cd68c2",
   "metadata": {},
   "outputs": [],
   "source": []
  }
 ],
 "metadata": {
  "kernelspec": {
   "display_name": "Python 3 (ipykernel)",
   "language": "python",
   "name": "python3"
  },
  "language_info": {
   "codemirror_mode": {
    "name": "ipython",
    "version": 3
   },
   "file_extension": ".py",
   "mimetype": "text/x-python",
   "name": "python",
   "nbconvert_exporter": "python",
   "pygments_lexer": "ipython3",
   "version": "3.10.9"
  }
 },
 "nbformat": 4,
 "nbformat_minor": 5
}
